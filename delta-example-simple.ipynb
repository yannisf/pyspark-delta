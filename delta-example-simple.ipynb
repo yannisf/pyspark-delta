{
 "cells": [
  {
   "cell_type": "markdown",
   "id": "a6554c1b",
   "metadata": {},
   "source": [
    "# Spark with Delta Lake in Jupyter Notebooks\n",
    "\n",
    "There are several things that need special attention.\n",
    "\n",
    "- You need the config `\"spark.jars.packages\", \"io.delta:delta-spark_2.13:4.0.0\"` in order to download the Delta Lake jvm artifact.\n",
    "- You need the config `\"spark.sql.warehouse.dir\", \"./spark-warehouse\"` to set the location of the Spark SQL warehouse. This will be the location where managed tables are stored.\n",
    "- You need the config `\"javax.jdo.option.ConnectionURL\", \"jdbc:derby:;databaseName=./metastore/metastore_db;create=true\"` and `enableHiveSupport()` in order to use the Hive metastore to manage tables. This will create a local Derby database to store the metadata of the tables and will allow to look up tables by name.\n",
    "- You need to have the `sparksql-magic` extension installed and `%load_ext sparksql_magic` in order to be able to run SQL queries in a cell magic using `%%sparksql`.\n",
    "- Alternatively, and maybe it is easier, you can use the DataFrame API and point to the datafiles directly. In that case you don't need the SQL Warehouse, the Hive metastore and the `sparksql-magic` extension."
   ]
  },
  {
   "cell_type": "code",
   "execution_count": 1,
   "id": "475383b5",
   "metadata": {},
   "outputs": [],
   "source": [
    "%load_ext sparksql_magic"
   ]
  },
  {
   "cell_type": "code",
   "execution_count": 2,
   "id": "61662c5b-888a-4a3d-a9d2-eedfd0af0809",
   "metadata": {},
   "outputs": [
    {
     "name": "stderr",
     "output_type": "stream",
     "text": [
      "WARNING: Using incubator modules: jdk.incubator.vector\n",
      "Warning: Ignoring non-Spark config property: javax.jdo.option.ConnectionURL\n",
      ":: loading settings :: url = jar:file:/home/yannis/Development/tmp/pyspark-delta/.venv/lib/python3.11/site-packages/pyspark/jars/ivy-2.5.3.jar!/org/apache/ivy/core/settings/ivysettings.xml\n",
      "Ivy Default Cache set to: /home/yannis/.ivy2.5.2/cache\n",
      "The jars for the packages stored in: /home/yannis/.ivy2.5.2/jars\n",
      "io.delta#delta-spark_2.13 added as a dependency\n",
      ":: resolving dependencies :: org.apache.spark#spark-submit-parent-91b95ac2-82f1-4bf8-8011-75e41c55a9eb;1.0\n",
      "\tconfs: [default]\n",
      "\tfound io.delta#delta-spark_2.13;4.0.0 in central\n",
      "\tfound io.delta#delta-storage;4.0.0 in central\n",
      "\tfound org.antlr#antlr4-runtime;4.13.1 in central\n",
      ":: resolution report :: resolve 303ms :: artifacts dl 12ms\n",
      "\t:: modules in use:\n",
      "\tio.delta#delta-spark_2.13;4.0.0 from central in [default]\n",
      "\tio.delta#delta-storage;4.0.0 from central in [default]\n",
      "\torg.antlr#antlr4-runtime;4.13.1 from central in [default]\n",
      "\t---------------------------------------------------------------------\n",
      "\t|                  |            modules            ||   artifacts   |\n",
      "\t|       conf       | number| search|dwnlded|evicted|| number|dwnlded|\n",
      "\t---------------------------------------------------------------------\n",
      "\t|      default     |   3   |   0   |   0   |   0   ||   3   |   0   |\n",
      "\t---------------------------------------------------------------------\n",
      ":: retrieving :: org.apache.spark#spark-submit-parent-91b95ac2-82f1-4bf8-8011-75e41c55a9eb\n",
      "\tconfs: [default]\n",
      "\t0 artifacts copied, 3 already retrieved (0kB/12ms)\n",
      "25/10/17 18:25:32 WARN NativeCodeLoader: Unable to load native-hadoop library for your platform... using builtin-java classes where applicable\n",
      "Using Spark's default log4j profile: org/apache/spark/log4j2-defaults.properties\n",
      "Setting default log level to \"WARN\".\n",
      "To adjust logging level use sc.setLogLevel(newLevel). For SparkR, use setLogLevel(newLevel).\n"
     ]
    },
    {
     "data": {
      "text/plain": [
       "'http://ouranos:4040'"
      ]
     },
     "execution_count": 2,
     "metadata": {},
     "output_type": "execute_result"
    }
   ],
   "source": [
    "from pyspark.sql import SparkSession\n",
    "from pyspark.sql import functions as F\n",
    "from pyspark.sql import types as T\n",
    "from pyspark.sql import Row\n",
    "from pyspark.sql.window import Window\n",
    "from delta.tables import DeltaTable\n",
    "\n",
    "spark = (\n",
    "    SparkSession.builder \n",
    "    .appName(\"DeltaExample\")\n",
    "    .master(\"local[*]\")\n",
    "    .config(\"spark.ui.enabled\", \"true\")   \n",
    "    .config(\"spark.jars.packages\", \"io.delta:delta-spark_2.13:4.0.0\")\n",
    "    .config(\"spark.sql.extensions\", \"io.delta.sql.DeltaSparkSessionExtension\")\n",
    "    .config(\"spark.sql.catalog.spark_catalog\", \"org.apache.spark.sql.delta.catalog.DeltaCatalog\")\n",
    "    .config(\"spark.sql.warehouse.dir\", \"./spark-warehouse\")\n",
    "    .config(\"javax.jdo.option.ConnectionURL\", \"jdbc:derby:;databaseName=./metastore/metastore_db;create=true\")\n",
    "    .enableHiveSupport()    # persist metastore across sessions (embedded Hive metastore)\n",
    "    .getOrCreate()\n",
    ")\n",
    "\n",
    "# Show the SparkUI url (useful for monitoring and debuging)\n",
    "spark.sparkContext.uiWebUrl"
   ]
  },
  {
   "cell_type": "code",
   "execution_count": 3,
   "id": "1dbd0a7d",
   "metadata": {},
   "outputs": [
    {
     "name": "stderr",
     "output_type": "stream",
     "text": [
      "25/10/17 17:54:31 WARN ObjectStore: Version information not found in metastore. hive.metastore.schema.verification is not enabled so recording the schema version 2.3.0\n",
      "25/10/17 17:54:31 WARN ObjectStore: setMetaStoreSchemaVersion called but recording version is disabled: version = 2.3.0, comment = Set by MetaStore yannis@192.168.10.76\n",
      "25/10/17 17:54:31 WARN ObjectStore: Failed to get database default, returning NoSuchObjectException\n",
      "25/10/17 17:54:32 WARN ObjectStore: Failed to get database marvel_db, returning NoSuchObjectException\n",
      "25/10/17 17:54:32 WARN ObjectStore: Failed to get database marvel_db, returning NoSuchObjectException\n",
      "25/10/17 17:54:32 WARN ObjectStore: Failed to get database marvel_db, returning NoSuchObjectException\n"
     ]
    },
    {
     "data": {
      "text/html": [
       "<table><tr style=\"border-bottom: 1px solid\"></tr></table>"
      ],
      "text/plain": [
       "<IPython.core.display.HTML object>"
      ]
     },
     "execution_count": 3,
     "metadata": {},
     "output_type": "execute_result"
    }
   ],
   "source": [
    "%%sparksql\n",
    "create database if not exists marvel_db;"
   ]
  },
  {
   "cell_type": "code",
   "execution_count": 4,
   "id": "e21d41b7",
   "metadata": {},
   "outputs": [
    {
     "data": {
      "text/html": [
       "<table><tr style=\"border-bottom: 1px solid\"></tr></table>"
      ],
      "text/plain": [
       "<IPython.core.display.HTML object>"
      ]
     },
     "execution_count": 4,
     "metadata": {},
     "output_type": "execute_result"
    }
   ],
   "source": [
    "%%sparksql\n",
    "use marvel_db;"
   ]
  },
  {
   "cell_type": "code",
   "execution_count": 5,
   "id": "4b6284da",
   "metadata": {},
   "outputs": [
    {
     "data": {
      "text/html": [
       "<table><tr style=\"border-bottom: 1px solid\"><td style=\"font-weight: bold\">info_name</td><td style=\"font-weight: bold\">info_value</td></tr><tr><td>Catalog Name</td><td>spark_catalog</td></tr><tr><td>Namespace Name</td><td>marvel_db</td></tr><tr><td>Comment</td><td></td></tr><tr><td>Location</td><td>file:/home/yannis/Development/tmp/pyspark-delta/spark-warehouse/marvel_db.db</td></tr><tr><td>Owner</td><td>yannis</td></tr></table>"
      ],
      "text/plain": [
       "<IPython.core.display.HTML object>"
      ]
     },
     "execution_count": 5,
     "metadata": {},
     "output_type": "execute_result"
    }
   ],
   "source": [
    "%%sparksql\n",
    "describe database marvel_db;"
   ]
  },
  {
   "cell_type": "code",
   "execution_count": 12,
   "id": "fcf6c162",
   "metadata": {},
   "outputs": [
    {
     "data": {
      "text/html": [
       "<table><tr style=\"border-bottom: 1px solid\"><td style=\"font-weight: bold\">namespace</td><td style=\"font-weight: bold\">tableName</td><td style=\"font-weight: bold\">isTemporary</td></tr><tr><td>marvel_db</td><td>superheroes</td><td>False</td></tr><tr><td></td><td>superheroes_raw</td><td>True</td></tr></table>"
      ],
      "text/plain": [
       "<IPython.core.display.HTML object>"
      ]
     },
     "execution_count": 12,
     "metadata": {},
     "output_type": "execute_result"
    }
   ],
   "source": [
    "%%sparksql\n",
    "show tables;"
   ]
  },
  {
   "cell_type": "code",
   "execution_count": 7,
   "id": "bdd94f4b",
   "metadata": {},
   "outputs": [
    {
     "name": "stderr",
     "output_type": "stream",
     "text": [
      "25/10/17 17:55:39 WARN HiveExternalCatalog: Couldn't find corresponding Hive SerDe for data source provider delta. Persisting data source table `spark_catalog`.`marvel_db`.`superheroes` into Hive metastore in Spark SQL specific format, which is NOT compatible with Hive.\n",
      "25/10/17 17:55:39 WARN SessionState: METASTORE_FILTER_HOOK will be ignored, since hive.security.authorization.manager is set to instance of HiveAuthorizerFactory.\n",
      "25/10/17 17:55:39 WARN HiveConf: HiveConf of name hive.internal.ss.authz.settings.applied.marker does not exist\n"
     ]
    },
    {
     "data": {
      "text/html": [
       "<table><tr style=\"border-bottom: 1px solid\"></tr></table>"
      ],
      "text/plain": [
       "<IPython.core.display.HTML object>"
      ]
     },
     "execution_count": 7,
     "metadata": {},
     "output_type": "execute_result"
    }
   ],
   "source": [
    "%%sparksql\n",
    "create table if not exists marvel_db.superheroes\n",
    "(\n",
    "  id INT,\n",
    "  hero_name STRING,\n",
    "  secret_identity STRING,\n",
    "  power_level INT\n",
    ")\n",
    "using delta"
   ]
  },
  {
   "cell_type": "code",
   "execution_count": 9,
   "id": "fa674650",
   "metadata": {},
   "outputs": [
    {
     "data": {
      "text/html": [
       "<table><tr style=\"border-bottom: 1px solid\"><td style=\"font-weight: bold\">col_name</td><td style=\"font-weight: bold\">data_type</td><td style=\"font-weight: bold\">comment</td></tr><tr><td>id</td><td>int</td><td>null</td></tr><tr><td>hero_name</td><td>string</td><td>null</td></tr><tr><td>secret_identity</td><td>string</td><td>null</td></tr><tr><td>power_level</td><td>int</td><td>null</td></tr></table>"
      ],
      "text/plain": [
       "<IPython.core.display.HTML object>"
      ]
     },
     "execution_count": 9,
     "metadata": {},
     "output_type": "execute_result"
    }
   ],
   "source": [
    "%%sparksql\n",
    "describe table marvel_db.superheroes"
   ]
  },
  {
   "cell_type": "code",
   "execution_count": 10,
   "id": "ec18ebf0",
   "metadata": {},
   "outputs": [],
   "source": [
    "schema = T.StructType([\n",
    "    T.StructField(\"id\", T.IntegerType(), False),\n",
    "    T.StructField(\"hero_name\", T.StringType(), False),\n",
    "    T.StructField(\"secret_identity\", T.StringType(), False),\n",
    "    T.StructField(\"power_level\", T.IntegerType(), False)\n",
    "])"
   ]
  },
  {
   "cell_type": "code",
   "execution_count": 11,
   "id": "3ed4ac03",
   "metadata": {},
   "outputs": [],
   "source": [
    "raw_df = (\n",
    "    spark.read\n",
    "        .schema(schema)\n",
    "        .option(\"header\", \"true\")\n",
    "        .csv(\"data/marvel.csv\")\n",
    ")\n",
    "\n",
    "raw_df.createOrReplaceTempView(\"superheroes_raw\")"
   ]
  },
  {
   "cell_type": "code",
   "execution_count": 13,
   "id": "a0d5b793-dcf6-4ca0-a6b4-6db0e7be873d",
   "metadata": {},
   "outputs": [
    {
     "data": {
      "text/html": [
       "<table><tr style=\"border-bottom: 1px solid\"><td style=\"font-weight: bold\">id</td><td style=\"font-weight: bold\">hero_name</td><td style=\"font-weight: bold\">secret_identity</td><td style=\"font-weight: bold\">power_level</td></tr><tr><td>1</td><td>Iron Man</td><td>Tony Stark</td><td>95</td></tr><tr><td>2</td><td>Captain America</td><td>Steve Rogers</td><td>88</td></tr><tr><td>3</td><td>Thor</td><td>Thor Odinson</td><td>98</td></tr><tr><td>4</td><td>Hulk</td><td>Bruce Banner</td><td>97</td></tr><tr><td>5</td><td>Black Widow</td><td>Natasha Romanoff</td><td>75</td></tr><tr><td>6</td><td>Spider-Man</td><td>Peter Parker</td><td>92</td></tr><tr><td>7</td><td>Black Panther</td><td>T&#x27;Challa</td><td>89</td></tr><tr><td>8</td><td>Doctor Strange</td><td>Stephen Strange</td><td>93</td></tr><tr><td>9</td><td>Scarlet Witch</td><td>Wanda Maximoff</td><td>94</td></tr><tr><td>10</td><td>Hawkeye</td><td>Clint Barton</td><td>70</td></tr></table>"
      ],
      "text/plain": [
       "<IPython.core.display.HTML object>"
      ]
     },
     "execution_count": 13,
     "metadata": {},
     "output_type": "execute_result"
    }
   ],
   "source": [
    "%%sparksql\n",
    "select * from superheroes_raw"
   ]
  },
  {
   "cell_type": "code",
   "execution_count": 14,
   "id": "608d5fd5",
   "metadata": {},
   "outputs": [
    {
     "name": "stderr",
     "output_type": "stream",
     "text": [
      "25/10/17 17:56:39 WARN SparkStringUtils: Truncated the string representation of a plan since it was too large. This behavior can be adjusted by setting 'spark.sql.debug.maxToStringFields'.\n",
      "                                                                                \r"
     ]
    },
    {
     "data": {
      "text/html": [
       "<table><tr style=\"border-bottom: 1px solid\"></tr></table>"
      ],
      "text/plain": [
       "<IPython.core.display.HTML object>"
      ]
     },
     "execution_count": 14,
     "metadata": {},
     "output_type": "execute_result"
    }
   ],
   "source": [
    "%%sparksql\n",
    "INSERT INTO marvel_db.superheroes (\n",
    "  id,\n",
    "  hero_name,\n",
    "  secret_identity,\n",
    "  power_level\n",
    ")\n",
    "SELECT\n",
    "  id,\n",
    "  hero_name,\n",
    "  secret_identity,\n",
    "  power_level\n",
    "FROM superheroes_raw;"
   ]
  },
  {
   "cell_type": "code",
   "execution_count": 15,
   "id": "76bb0d87-2ac6-4db6-8aa6-5db796e1ba94",
   "metadata": {},
   "outputs": [
    {
     "name": "stderr",
     "output_type": "stream",
     "text": [
      "                                                                                \r"
     ]
    },
    {
     "data": {
      "text/html": [
       "<table><tr style=\"border-bottom: 1px solid\"><td style=\"font-weight: bold\">id</td><td style=\"font-weight: bold\">hero_name</td><td style=\"font-weight: bold\">secret_identity</td><td style=\"font-weight: bold\">power_level</td></tr><tr><td>1</td><td>Iron Man</td><td>Tony Stark</td><td>95</td></tr><tr><td>2</td><td>Captain America</td><td>Steve Rogers</td><td>88</td></tr><tr><td>3</td><td>Thor</td><td>Thor Odinson</td><td>98</td></tr><tr><td>4</td><td>Hulk</td><td>Bruce Banner</td><td>97</td></tr><tr><td>5</td><td>Black Widow</td><td>Natasha Romanoff</td><td>75</td></tr><tr><td>6</td><td>Spider-Man</td><td>Peter Parker</td><td>92</td></tr><tr><td>7</td><td>Black Panther</td><td>T&#x27;Challa</td><td>89</td></tr><tr><td>8</td><td>Doctor Strange</td><td>Stephen Strange</td><td>93</td></tr><tr><td>9</td><td>Scarlet Witch</td><td>Wanda Maximoff</td><td>94</td></tr><tr><td>10</td><td>Hawkeye</td><td>Clint Barton</td><td>70</td></tr></table>"
      ],
      "text/plain": [
       "<IPython.core.display.HTML object>"
      ]
     },
     "execution_count": 15,
     "metadata": {},
     "output_type": "execute_result"
    }
   ],
   "source": [
    "%%sparksql\n",
    "select * from superheroes;"
   ]
  },
  {
   "cell_type": "code",
   "execution_count": 16,
   "id": "cd896641",
   "metadata": {},
   "outputs": [],
   "source": [
    "raw_df_mod = (\n",
    "    spark.read\n",
    "        .schema(schema)\n",
    "        .option(\"header\", \"true\")\n",
    "        .csv(\"data/marvel_mod.csv\")\n",
    ")\n",
    "\n",
    "raw_df_mod.createOrReplaceTempView(\"superheroes_raw_mod\")"
   ]
  },
  {
   "cell_type": "code",
   "execution_count": 17,
   "id": "563db028",
   "metadata": {},
   "outputs": [
    {
     "name": "stderr",
     "output_type": "stream",
     "text": [
      "25/10/17 17:57:09 WARN MapPartitionsRDD: RDD 40 was locally checkpointed, its lineage has been truncated and cannot be recomputed after unpersisting\n"
     ]
    },
    {
     "data": {
      "text/html": [
       "<table><tr style=\"border-bottom: 1px solid\"><td style=\"font-weight: bold\">num_affected_rows</td><td style=\"font-weight: bold\">num_updated_rows</td><td style=\"font-weight: bold\">num_deleted_rows</td><td style=\"font-weight: bold\">num_inserted_rows</td></tr><tr><td>11</td><td>9</td><td>1</td><td>1</td></tr></table>"
      ],
      "text/plain": [
       "<IPython.core.display.HTML object>"
      ]
     },
     "execution_count": 17,
     "metadata": {},
     "output_type": "execute_result"
    }
   ],
   "source": [
    "%%sparksql\n",
    "MERGE INTO superheroes AS target\n",
    "USING superheroes_raw_mod AS source\n",
    "  ON target.id = source.id\n",
    "WHEN MATCHED THEN UPDATE SET\n",
    "  target.id = source.id,\n",
    "  target.hero_name = source.hero_name,\n",
    "  target.secret_identity = source.secret_identity,\n",
    "  target.power_level = source.power_level\n",
    "WHEN NOT MATCHED THEN INSERT (\n",
    "  id, hero_name, secret_identity, power_level\n",
    ") VALUES (\n",
    "  source.id, source.hero_name, source.secret_identity, source.power_level\n",
    ")\n",
    "WHEN NOT MATCHED BY SOURCE THEN DELETE;"
   ]
  },
  {
   "cell_type": "code",
   "execution_count": 18,
   "id": "392c1c65",
   "metadata": {},
   "outputs": [
    {
     "name": "stderr",
     "output_type": "stream",
     "text": [
      "                                                                                \r"
     ]
    },
    {
     "data": {
      "text/html": [
       "<table><tr style=\"border-bottom: 1px solid\"><td style=\"font-weight: bold\">id</td><td style=\"font-weight: bold\">hero_name</td><td style=\"font-weight: bold\">secret_identity</td><td style=\"font-weight: bold\">power_level</td></tr><tr><td>1</td><td>Iron Man</td><td>Tony Stark</td><td>97</td></tr><tr><td>2</td><td>Captain America</td><td>Steve Rogers</td><td>88</td></tr><tr><td>3</td><td>Thor</td><td>null</td><td>98</td></tr><tr><td>4</td><td>Hulk</td><td>Bruce Banner</td><td>97</td></tr><tr><td>5</td><td>Black Widow</td><td>Natasha Romanoff</td><td>75</td></tr><tr><td>6</td><td>Spider-Man</td><td>Peter Parker</td><td>92</td></tr><tr><td>7</td><td>Black Panther</td><td>T&#x27;Challa</td><td>89</td></tr><tr><td>9</td><td>Scarlet Witch</td><td>Wanda Maximoff</td><td>94</td></tr><tr><td>10</td><td>Hawkeye</td><td>Clint Barton</td><td>70</td></tr><tr><td>11</td><td>Ant-Man</td><td>Scott Lang</td><td>80</td></tr></table>"
      ],
      "text/plain": [
       "<IPython.core.display.HTML object>"
      ]
     },
     "execution_count": 18,
     "metadata": {},
     "output_type": "execute_result"
    }
   ],
   "source": [
    "%%sparksql\n",
    "select * from superheroes;"
   ]
  },
  {
   "cell_type": "code",
   "execution_count": null,
   "id": "c5b62ca3",
   "metadata": {},
   "outputs": [
    {
     "name": "stderr",
     "output_type": "stream",
     "text": [
      "25/10/17 18:21:06 WARN UpdateCommand: Could not validate number of records due to missing statistics.\n",
      "                                                                                \r"
     ]
    },
    {
     "data": {
      "text/html": [
       "<table><tr style=\"border-bottom: 1px solid\"><td style=\"font-weight: bold\">num_affected_rows</td></tr><tr><td>1</td></tr></table>"
      ],
      "text/plain": [
       "<IPython.core.display.HTML object>"
      ]
     },
     "execution_count": 50,
     "metadata": {},
     "output_type": "execute_result"
    }
   ],
   "source": [
    "%%sparksql\n",
    "UPDATE superheroes\n",
    "SET power_level = power_level + 1\n",
    "WHERE hero_name = 'Iron Man'"
   ]
  },
  {
   "cell_type": "code",
   "execution_count": 52,
   "id": "7f5ba9c6",
   "metadata": {},
   "outputs": [
    {
     "name": "stderr",
     "output_type": "stream",
     "text": [
      "25/10/17 18:23:03 WARN DeleteCommand: Could not validate number of records due to missing statistics.\n",
      "                                                                                \r"
     ]
    },
    {
     "data": {
      "text/html": [
       "<table><tr style=\"border-bottom: 1px solid\"><td style=\"font-weight: bold\">num_affected_rows</td></tr><tr><td>1</td></tr></table>"
      ],
      "text/plain": [
       "<IPython.core.display.HTML object>"
      ]
     },
     "execution_count": 52,
     "metadata": {},
     "output_type": "execute_result"
    }
   ],
   "source": [
    "%%sparksql\n",
    "DELETE FROM superheroes WHERE hero_name = 'Ant-Man'"
   ]
  },
  {
   "cell_type": "code",
   "execution_count": 3,
   "id": "7b9589b1",
   "metadata": {},
   "outputs": [
    {
     "name": "stderr",
     "output_type": "stream",
     "text": [
      "25/10/17 18:25:55 WARN ObjectStore: Version information not found in metastore. hive.metastore.schema.verification is not enabled so recording the schema version 2.3.0\n",
      "25/10/17 18:25:55 WARN ObjectStore: setMetaStoreSchemaVersion called but recording version is disabled: version = 2.3.0, comment = Set by MetaStore yannis@192.168.10.76\n",
      "                                                                                \r"
     ]
    },
    {
     "data": {
      "text/html": [
       "<table><tr style=\"border-bottom: 1px solid\"><td style=\"font-weight: bold\">version</td><td style=\"font-weight: bold\">timestamp</td><td style=\"font-weight: bold\">userId</td><td style=\"font-weight: bold\">userName</td><td style=\"font-weight: bold\">operation</td><td style=\"font-weight: bold\">operationParameters</td><td style=\"font-weight: bold\">job</td><td style=\"font-weight: bold\">notebook</td><td style=\"font-weight: bold\">clusterId</td><td style=\"font-weight: bold\">readVersion</td><td style=\"font-weight: bold\">isolationLevel</td><td style=\"font-weight: bold\">isBlindAppend</td><td style=\"font-weight: bold\">operationMetrics</td><td style=\"font-weight: bold\">userMetadata</td><td style=\"font-weight: bold\">engineInfo</td></tr><tr><td>4</td><td>2025-10-17 18:23:03.868000</td><td>null</td><td>null</td><td>DELETE</td><td>{&#x27;predicate&#x27;: &#x27;[&quot;(hero_name#11526 = Ant-Man)&quot;]&#x27;}</td><td>null</td><td>null</td><td>null</td><td>3</td><td>Serializable</td><td>False</td><td>{&#x27;numDeletionVectorsUpdated&#x27;: &#x27;0&#x27;, &#x27;numAddedFiles&#x27;: &#x27;1&#x27;, &#x27;executionTimeMs&#x27;: &#x27;2033&#x27;, &#x27;numDeletionVectorsRemoved&#x27;: &#x27;0&#x27;, &#x27;numRemovedFiles&#x27;: &#x27;1&#x27;, &#x27;rewriteTimeMs&#x27;: &#x27;335&#x27;, &#x27;numRemovedBytes&#x27;: &#x27;1642&#x27;, &#x27;scanTimeMs&#x27;: &#x27;1697&#x27;, &#x27;numCopiedRows&#x27;: &#x27;9&#x27;, &#x27;numDeletionVectorsAdded&#x27;: &#x27;0&#x27;, &#x27;numAddedChangeFiles&#x27;: &#x27;0&#x27;, &#x27;numDeletedRows&#x27;: &#x27;1&#x27;, &#x27;numAddedBytes&#x27;: &#x27;1620&#x27;}</td><td>null</td><td>Apache-Spark/4.0.1 Delta-Lake/4.0.0</td></tr><tr><td>3</td><td>2025-10-17 18:21:06.091000</td><td>null</td><td>null</td><td>UPDATE</td><td>{&#x27;predicate&#x27;: &#x27;[&quot;(hero_name#10912 = Iron Man)&quot;]&#x27;}</td><td>null</td><td>null</td><td>null</td><td>2</td><td>Serializable</td><td>False</td><td>{&#x27;numDeletionVectorsUpdated&#x27;: &#x27;0&#x27;, &#x27;numAddedFiles&#x27;: &#x27;1&#x27;, &#x27;executionTimeMs&#x27;: &#x27;1288&#x27;, &#x27;numDeletionVectorsRemoved&#x27;: &#x27;0&#x27;, &#x27;numUpdatedRows&#x27;: &#x27;1&#x27;, &#x27;numRemovedFiles&#x27;: &#x27;1&#x27;, &#x27;rewriteTimeMs&#x27;: &#x27;427&#x27;, &#x27;numRemovedBytes&#x27;: &#x27;1642&#x27;, &#x27;scanTimeMs&#x27;: &#x27;860&#x27;, &#x27;numCopiedRows&#x27;: &#x27;9&#x27;, &#x27;numDeletionVectorsAdded&#x27;: &#x27;0&#x27;, &#x27;numAddedChangeFiles&#x27;: &#x27;0&#x27;, &#x27;numAddedBytes&#x27;: &#x27;1642&#x27;}</td><td>null</td><td>Apache-Spark/4.0.1 Delta-Lake/4.0.0</td></tr><tr><td>2</td><td>2025-10-17 17:57:07.292000</td><td>null</td><td>null</td><td>MERGE</td><td>{&#x27;matchedPredicates&#x27;: &#x27;[{&quot;actionType&quot;:&quot;update&quot;}]&#x27;, &#x27;predicate&#x27;: &#x27;[&quot;(id#1097 = id#1093)&quot;]&#x27;, &#x27;notMatchedBySourcePredicates&#x27;: &#x27;[{&quot;actionType&quot;:&quot;delete&quot;}]&#x27;, &#x27;notMatchedPredicates&#x27;: &#x27;[{&quot;actionType&quot;:&quot;insert&quot;}]&#x27;}</td><td>null</td><td>null</td><td>null</td><td>1</td><td>Serializable</td><td>False</td><td>{&#x27;numOutputRows&#x27;: &#x27;10&#x27;, &#x27;numTargetBytesAdded&#x27;: &#x27;1642&#x27;, &#x27;numTargetRowsInserted&#x27;: &#x27;1&#x27;, &#x27;numTargetRowsMatchedDeleted&#x27;: &#x27;0&#x27;, &#x27;numTargetFilesAdded&#x27;: &#x27;1&#x27;, &#x27;materializeSourceTimeMs&#x27;: &#x27;123&#x27;, &#x27;numTargetFilesRemoved&#x27;: &#x27;1&#x27;, &#x27;numTargetRowsMatchedUpdated&#x27;: &#x27;9&#x27;, &#x27;executionTimeMs&#x27;: &#x27;2864&#x27;, &#x27;numTargetDeletionVectorsUpdated&#x27;: &#x27;0&#x27;, &#x27;numTargetRowsCopied&#x27;: &#x27;0&#x27;, &#x27;rewriteTimeMs&#x27;: &#x27;852&#x27;, &#x27;numTargetRowsUpdated&#x27;: &#x27;9&#x27;, &#x27;numTargetDeletionVectorsRemoved&#x27;: &#x27;0&#x27;, &#x27;numTargetRowsDeleted&#x27;: &#x27;1&#x27;, &#x27;scanTimeMs&#x27;: &#x27;1874&#x27;, &#x27;numSourceRows&#x27;: &#x27;10&#x27;, &#x27;numTargetDeletionVectorsAdded&#x27;: &#x27;0&#x27;, &#x27;numTargetChangeFilesAdded&#x27;: &#x27;0&#x27;, &#x27;numTargetRowsNotMatchedBySourceUpdated&#x27;: &#x27;0&#x27;, &#x27;numTargetRowsNotMatchedBySourceDeleted&#x27;: &#x27;1&#x27;, &#x27;numTargetBytesRemoved&#x27;: &#x27;1679&#x27;}</td><td>null</td><td>Apache-Spark/4.0.1 Delta-Lake/4.0.0</td></tr><tr><td>1</td><td>2025-10-17 17:56:39.280000</td><td>null</td><td>null</td><td>WRITE</td><td>{&#x27;mode&#x27;: &#x27;Append&#x27;, &#x27;partitionBy&#x27;: &#x27;[]&#x27;}</td><td>null</td><td>null</td><td>null</td><td>0</td><td>Serializable</td><td>True</td><td>{&#x27;numOutputRows&#x27;: &#x27;10&#x27;, &#x27;numOutputBytes&#x27;: &#x27;1679&#x27;, &#x27;numFiles&#x27;: &#x27;1&#x27;}</td><td>null</td><td>Apache-Spark/4.0.1 Delta-Lake/4.0.0</td></tr><tr><td>0</td><td>2025-10-17 17:55:36.558000</td><td>null</td><td>null</td><td>CREATE TABLE</td><td>{&#x27;partitionBy&#x27;: &#x27;[]&#x27;, &#x27;description&#x27;: None, &#x27;properties&#x27;: &#x27;{}&#x27;, &#x27;clusterBy&#x27;: &#x27;[]&#x27;, &#x27;isManaged&#x27;: &#x27;true&#x27;}</td><td>null</td><td>null</td><td>null</td><td>null</td><td>Serializable</td><td>True</td><td>{}</td><td>null</td><td>Apache-Spark/4.0.1 Delta-Lake/4.0.0</td></tr></table>"
      ],
      "text/plain": [
       "<IPython.core.display.HTML object>"
      ]
     },
     "execution_count": 3,
     "metadata": {},
     "output_type": "execute_result"
    }
   ],
   "source": [
    "%%sparksql\n",
    "DESCRIBE HISTORY marvel_db.superheroes;"
   ]
  },
  {
   "cell_type": "code",
   "execution_count": 20,
   "id": "f785d725",
   "metadata": {},
   "outputs": [
    {
     "data": {
      "text/html": [
       "<table><tr style=\"border-bottom: 1px solid\"><td style=\"font-weight: bold\">format</td><td style=\"font-weight: bold\">id</td><td style=\"font-weight: bold\">name</td><td style=\"font-weight: bold\">description</td><td style=\"font-weight: bold\">location</td><td style=\"font-weight: bold\">createdAt</td><td style=\"font-weight: bold\">lastModified</td><td style=\"font-weight: bold\">partitionColumns</td><td style=\"font-weight: bold\">clusteringColumns</td><td style=\"font-weight: bold\">numFiles</td><td style=\"font-weight: bold\">sizeInBytes</td><td style=\"font-weight: bold\">properties</td><td style=\"font-weight: bold\">minReaderVersion</td><td style=\"font-weight: bold\">minWriterVersion</td><td style=\"font-weight: bold\">tableFeatures</td></tr><tr><td>delta</td><td>acd6e044-f060-4b96-88b5-37ab228c8991</td><td>spark_catalog.marvel_db.superheroes</td><td>null</td><td>file:/home/yannis/Development/tmp/pyspark-delta/spark-warehouse/marvel_db.db/superheroes</td><td>2025-10-17 17:55:36.098000</td><td>2025-10-17 17:57:07.292000</td><td>[]</td><td>[]</td><td>1</td><td>1642</td><td>{}</td><td>1</td><td>2</td><td>[&#x27;appendOnly&#x27;, &#x27;invariants&#x27;]</td></tr></table>"
      ],
      "text/plain": [
       "<IPython.core.display.HTML object>"
      ]
     },
     "execution_count": 20,
     "metadata": {},
     "output_type": "execute_result"
    }
   ],
   "source": [
    "%%sparksql\n",
    "DESCRIBE DETAIL marvel_db.superheroes;"
   ]
  },
  {
   "cell_type": "code",
   "execution_count": 21,
   "id": "f7584f32",
   "metadata": {},
   "outputs": [
    {
     "name": "stderr",
     "output_type": "stream",
     "text": [
      "                                                                                \r"
     ]
    },
    {
     "data": {
      "text/html": [
       "<table><tr style=\"border-bottom: 1px solid\"><td style=\"font-weight: bold\">id</td><td style=\"font-weight: bold\">hero_name</td><td style=\"font-weight: bold\">secret_identity</td><td style=\"font-weight: bold\">power_level</td></tr><tr><td>1</td><td>Iron Man</td><td>Tony Stark</td><td>95</td></tr><tr><td>2</td><td>Captain America</td><td>Steve Rogers</td><td>88</td></tr><tr><td>3</td><td>Thor</td><td>Thor Odinson</td><td>98</td></tr><tr><td>4</td><td>Hulk</td><td>Bruce Banner</td><td>97</td></tr><tr><td>5</td><td>Black Widow</td><td>Natasha Romanoff</td><td>75</td></tr><tr><td>6</td><td>Spider-Man</td><td>Peter Parker</td><td>92</td></tr><tr><td>7</td><td>Black Panther</td><td>T&#x27;Challa</td><td>89</td></tr><tr><td>8</td><td>Doctor Strange</td><td>Stephen Strange</td><td>93</td></tr><tr><td>9</td><td>Scarlet Witch</td><td>Wanda Maximoff</td><td>94</td></tr><tr><td>10</td><td>Hawkeye</td><td>Clint Barton</td><td>70</td></tr></table>"
      ],
      "text/plain": [
       "<IPython.core.display.HTML object>"
      ]
     },
     "execution_count": 21,
     "metadata": {},
     "output_type": "execute_result"
    }
   ],
   "source": [
    "%%sparksql\n",
    "SELECT * FROM marvel_db.superheroes VERSION AS OF 1;"
   ]
  },
  {
   "cell_type": "code",
   "execution_count": 22,
   "id": "3096b0ee",
   "metadata": {},
   "outputs": [
    {
     "data": {
      "text/html": [
       "<table><tr style=\"border-bottom: 1px solid\"><td style=\"font-weight: bold\">id</td><td style=\"font-weight: bold\">hero_name</td><td style=\"font-weight: bold\">secret_identity</td><td style=\"font-weight: bold\">power_level</td></tr><tr><td>1</td><td>Iron Man</td><td>Tony Stark</td><td>97</td></tr><tr><td>2</td><td>Captain America</td><td>Steve Rogers</td><td>88</td></tr><tr><td>3</td><td>Thor</td><td>null</td><td>98</td></tr><tr><td>4</td><td>Hulk</td><td>Bruce Banner</td><td>97</td></tr><tr><td>5</td><td>Black Widow</td><td>Natasha Romanoff</td><td>75</td></tr><tr><td>6</td><td>Spider-Man</td><td>Peter Parker</td><td>92</td></tr><tr><td>7</td><td>Black Panther</td><td>T&#x27;Challa</td><td>89</td></tr><tr><td>9</td><td>Scarlet Witch</td><td>Wanda Maximoff</td><td>94</td></tr><tr><td>10</td><td>Hawkeye</td><td>Clint Barton</td><td>70</td></tr><tr><td>11</td><td>Ant-Man</td><td>Scott Lang</td><td>80</td></tr></table>"
      ],
      "text/plain": [
       "<IPython.core.display.HTML object>"
      ]
     },
     "execution_count": 22,
     "metadata": {},
     "output_type": "execute_result"
    }
   ],
   "source": [
    "%%sparksql\n",
    "SELECT * FROM marvel_db.superheroes VERSION AS OF 2;\n"
   ]
  },
  {
   "cell_type": "code",
   "execution_count": 38,
   "id": "da6b994d",
   "metadata": {},
   "outputs": [
    {
     "name": "stderr",
     "output_type": "stream",
     "text": [
      "                                                                                \r"
     ]
    },
    {
     "data": {
      "text/html": [
       "<table><tr style=\"border-bottom: 1px solid\"><td style=\"font-weight: bold\">id</td><td style=\"font-weight: bold\">hero_name</td><td style=\"font-weight: bold\">secret_identity</td><td style=\"font-weight: bold\">power_level</td></tr></table>"
      ],
      "text/plain": [
       "<IPython.core.display.HTML object>"
      ]
     },
     "execution_count": 38,
     "metadata": {},
     "output_type": "execute_result"
    }
   ],
   "source": [
    "%%sparksql\n",
    "SELECT * FROM marvel_db.superheroes TIMESTAMP AS OF '2025-10-17 17:56:00';"
   ]
  },
  {
   "cell_type": "code",
   "execution_count": null,
   "id": "a4576c5b",
   "metadata": {},
   "outputs": [
    {
     "name": "stderr",
     "output_type": "stream",
     "text": [
      "                                                                                \r"
     ]
    },
    {
     "data": {
      "text/html": [
       "<table><tr style=\"border-bottom: 1px solid\"><td style=\"font-weight: bold\">id</td><td style=\"font-weight: bold\">hero_name</td><td style=\"font-weight: bold\">secret_identity</td><td style=\"font-weight: bold\">power_level</td></tr><tr><td>1</td><td>Iron Man</td><td>Tony Stark</td><td>95</td></tr><tr><td>2</td><td>Captain America</td><td>Steve Rogers</td><td>88</td></tr><tr><td>3</td><td>Thor</td><td>Thor Odinson</td><td>98</td></tr><tr><td>4</td><td>Hulk</td><td>Bruce Banner</td><td>97</td></tr><tr><td>5</td><td>Black Widow</td><td>Natasha Romanoff</td><td>75</td></tr><tr><td>6</td><td>Spider-Man</td><td>Peter Parker</td><td>92</td></tr><tr><td>7</td><td>Black Panther</td><td>T&#x27;Challa</td><td>89</td></tr><tr><td>8</td><td>Doctor Strange</td><td>Stephen Strange</td><td>93</td></tr><tr><td>9</td><td>Scarlet Witch</td><td>Wanda Maximoff</td><td>94</td></tr><tr><td>10</td><td>Hawkeye</td><td>Clint Barton</td><td>70</td></tr></table>"
      ],
      "text/plain": [
       "<IPython.core.display.HTML object>"
      ]
     },
     "execution_count": 40,
     "metadata": {},
     "output_type": "execute_result"
    }
   ],
   "source": [
    "%%sparksql\n",
    "SELECT * FROM marvel_db.superheroes TIMESTAMP AS OF '2025-10-17 17:57:00';"
   ]
  },
  {
   "cell_type": "code",
   "execution_count": 41,
   "id": "36db45a7",
   "metadata": {},
   "outputs": [
    {
     "data": {
      "text/html": [
       "<table><tr style=\"border-bottom: 1px solid\"><td style=\"font-weight: bold\">id</td><td style=\"font-weight: bold\">hero_name</td><td style=\"font-weight: bold\">secret_identity</td><td style=\"font-weight: bold\">power_level</td></tr><tr><td>1</td><td>Iron Man</td><td>Tony Stark</td><td>97</td></tr><tr><td>2</td><td>Captain America</td><td>Steve Rogers</td><td>88</td></tr><tr><td>3</td><td>Thor</td><td>null</td><td>98</td></tr><tr><td>4</td><td>Hulk</td><td>Bruce Banner</td><td>97</td></tr><tr><td>5</td><td>Black Widow</td><td>Natasha Romanoff</td><td>75</td></tr><tr><td>6</td><td>Spider-Man</td><td>Peter Parker</td><td>92</td></tr><tr><td>7</td><td>Black Panther</td><td>T&#x27;Challa</td><td>89</td></tr><tr><td>9</td><td>Scarlet Witch</td><td>Wanda Maximoff</td><td>94</td></tr><tr><td>10</td><td>Hawkeye</td><td>Clint Barton</td><td>70</td></tr><tr><td>11</td><td>Ant-Man</td><td>Scott Lang</td><td>80</td></tr></table>"
      ],
      "text/plain": [
       "<IPython.core.display.HTML object>"
      ]
     },
     "execution_count": 41,
     "metadata": {},
     "output_type": "execute_result"
    }
   ],
   "source": [
    "%%sparksql\n",
    "SELECT * FROM marvel_db.superheroes TIMESTAMP AS OF '2025-10-17 17:57:07.292000';"
   ]
  },
  {
   "cell_type": "code",
   "execution_count": null,
   "id": "bb2c97f7",
   "metadata": {},
   "outputs": [],
   "source": []
  }
 ],
 "metadata": {
  "kernelspec": {
   "display_name": "pyspark-delta (.venv)",
   "language": "python",
   "name": "pyspark_venv"
  },
  "language_info": {
   "codemirror_mode": {
    "name": "ipython",
    "version": 3
   },
   "file_extension": ".py",
   "mimetype": "text/x-python",
   "name": "python",
   "nbconvert_exporter": "python",
   "pygments_lexer": "ipython3",
   "version": "3.11.4"
  }
 },
 "nbformat": 4,
 "nbformat_minor": 5
}
