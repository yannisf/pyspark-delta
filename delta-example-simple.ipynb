{
 "cells": [
  {
   "cell_type": "code",
   "execution_count": null,
   "id": "475383b5",
   "metadata": {},
   "outputs": [],
   "source": [
    "%load_ext sparksql_magic"
   ]
  },
  {
   "cell_type": "code",
   "execution_count": null,
   "id": "61662c5b-888a-4a3d-a9d2-eedfd0af0809",
   "metadata": {},
   "outputs": [],
   "source": [
    "from pyspark.sql import SparkSession\n",
    "from pyspark.sql import functions as F\n",
    "from pyspark.sql import types as T\n",
    "from pyspark.sql import Row\n",
    "from pyspark.sql.window import Window\n",
    "from delta.tables import DeltaTable\n",
    "\n",
    "spark = (\n",
    "    SparkSession.builder \n",
    "    .appName(\"DeltaExample\")\n",
    "    .master(\"local[*]\")\n",
    "    .config(\"spark.ui.enabled\", \"true\")   \n",
    "    .config(\"spark.jars.packages\", \"io.delta:delta-spark_2.13:4.0.0\")\n",
    "    .config(\"spark.sql.extensions\", \"io.delta.sql.DeltaSparkSessionExtension\")\n",
    "    .config(\"spark.sql.catalog.spark_catalog\", \"org.apache.spark.sql.delta.catalog.DeltaCatalog\")\n",
    "    .config(\"spark.sql.warehouse.dir\", \"./spark-warehouse\")\n",
    "    .enableHiveSupport()    # persist metastore across sessions (embedded Hive metastore)\n",
    "    .getOrCreate()\n",
    ")\n",
    "\n",
    "# Show the SparkUI url (useful for monitoring and debuging)\n",
    "spark.sparkContext.uiWebUrl"
   ]
  },
  {
   "cell_type": "code",
   "execution_count": null,
   "id": "1dbd0a7d",
   "metadata": {},
   "outputs": [],
   "source": [
    "%%sparksql\n",
    "create database if not exists marvel_db;"
   ]
  },
  {
   "cell_type": "code",
   "execution_count": null,
   "id": "e21d41b7",
   "metadata": {},
   "outputs": [],
   "source": [
    "%%sparksql\n",
    "use marvel_db;"
   ]
  },
  {
   "cell_type": "code",
   "execution_count": null,
   "id": "4b6284da",
   "metadata": {},
   "outputs": [],
   "source": [
    "%%sparksql\n",
    "describe database marvel_db;"
   ]
  },
  {
   "cell_type": "code",
   "execution_count": null,
   "id": "fcf6c162",
   "metadata": {},
   "outputs": [],
   "source": [
    "%%sparksql\n",
    "show tables;"
   ]
  },
  {
   "cell_type": "code",
   "execution_count": null,
   "id": "bdd94f4b",
   "metadata": {},
   "outputs": [],
   "source": [
    "%%sparksql\n",
    "create table if not exists marvel_db.superheroes\n",
    "(\n",
    "  id INT,\n",
    "  hero_name STRING,\n",
    "  secret_identity STRING,\n",
    "  power_level INT\n",
    ")\n",
    "using delta"
   ]
  },
  {
   "cell_type": "code",
   "execution_count": null,
   "id": "fa674650",
   "metadata": {},
   "outputs": [],
   "source": [
    "%%sparksql\n",
    "describe table marvel_db.superheroes"
   ]
  },
  {
   "cell_type": "code",
   "execution_count": null,
   "id": "ec18ebf0",
   "metadata": {},
   "outputs": [],
   "source": [
    "schema = T.StructType([\n",
    "    T.StructField(\"id\", T.IntegerType(), False),\n",
    "    T.StructField(\"hero_name\", T.StringType(), False),\n",
    "    T.StructField(\"secret_identity\", T.StringType(), False),\n",
    "    T.StructField(\"power_level\", T.IntegerType(), False)\n",
    "])"
   ]
  },
  {
   "cell_type": "code",
   "execution_count": null,
   "id": "3ed4ac03",
   "metadata": {},
   "outputs": [],
   "source": [
    "raw_df = (\n",
    "    spark.read\n",
    "        .schema(schema)\n",
    "        .option(\"header\", \"true\")\n",
    "        .csv(\"data/marvel.csv\")\n",
    ")\n",
    "\n",
    "raw_df.createOrReplaceTempView(\"superheroes_raw\")"
   ]
  },
  {
   "cell_type": "code",
   "execution_count": null,
   "id": "a0d5b793-dcf6-4ca0-a6b4-6db0e7be873d",
   "metadata": {},
   "outputs": [],
   "source": [
    "%%sparksql\n",
    "select * from superheroes_raw"
   ]
  },
  {
   "cell_type": "code",
   "execution_count": null,
   "id": "608d5fd5",
   "metadata": {},
   "outputs": [],
   "source": [
    "%%sparksql\n",
    "INSERT INTO marvel_db.superheroes (\n",
    "  id,\n",
    "  hero_name,\n",
    "  secret_identity,\n",
    "  power_level\n",
    ")\n",
    "SELECT\n",
    "  id,\n",
    "  hero_name,\n",
    "  secret_identity,\n",
    "  power_level\n",
    "FROM superheroes_raw;"
   ]
  },
  {
   "cell_type": "code",
   "execution_count": null,
   "id": "76bb0d87-2ac6-4db6-8aa6-5db796e1ba94",
   "metadata": {},
   "outputs": [],
   "source": [
    "%%sparksql\n",
    "select * from superheroes;"
   ]
  },
  {
   "cell_type": "code",
   "execution_count": null,
   "id": "cd896641",
   "metadata": {},
   "outputs": [],
   "source": [
    "raw_df_mod = (\n",
    "    spark.read\n",
    "        .schema(schema)\n",
    "        .option(\"header\", \"true\")\n",
    "        .csv(\"data/marvel_mod.csv\")\n",
    ")\n",
    "\n",
    "raw_df_mod.createOrReplaceTempView(\"superheroes_raw_mod\")"
   ]
  },
  {
   "cell_type": "code",
   "execution_count": null,
   "id": "563db028",
   "metadata": {},
   "outputs": [],
   "source": [
    "%%sparksql\n",
    "MERGE INTO superheroes AS target\n",
    "USING superheroes_raw_mod AS source\n",
    "  ON target.id = source.id\n",
    "WHEN MATCHED THEN UPDATE SET\n",
    "  target.id = source.id,\n",
    "  target.hero_name = source.hero_name,\n",
    "  target.secret_identity = source.secret_identity,\n",
    "  target.power_level = source.power_level\n",
    "WHEN NOT MATCHED THEN INSERT (\n",
    "  id, hero_name, secret_identity, power_level\n",
    ") VALUES (\n",
    "  source.id, source.hero_name, source.secret_identity, source.power_level\n",
    ")\n",
    "WHEN NOT MATCHED BY SOURCE THEN DELETE;"
   ]
  },
  {
   "cell_type": "code",
   "execution_count": null,
   "id": "392c1c65",
   "metadata": {},
   "outputs": [],
   "source": [
    "%%sparksql\n",
    "select * from superheroes;"
   ]
  },
  {
   "cell_type": "code",
   "execution_count": null,
   "id": "7b9589b1",
   "metadata": {},
   "outputs": [],
   "source": []
  }
 ],
 "metadata": {
  "kernelspec": {
   "display_name": "pyspark-delta (.venv)",
   "language": "python",
   "name": "pyspark_venv"
  },
  "language_info": {
   "codemirror_mode": {
    "name": "ipython",
    "version": 3
   },
   "file_extension": ".py",
   "mimetype": "text/x-python",
   "name": "python",
   "nbconvert_exporter": "python",
   "pygments_lexer": "ipython3",
   "version": "3.11.13"
  }
 },
 "nbformat": 4,
 "nbformat_minor": 5
}
