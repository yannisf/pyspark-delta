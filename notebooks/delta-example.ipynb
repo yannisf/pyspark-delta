{
 "cells": [
  {
   "cell_type": "markdown",
   "id": "e88d5730-fbb4-4c7b-a39b-b7a64160b6f0",
   "metadata": {},
   "source": [
    "#### Use only if autocomplete does not work\n",
    "```\n",
    "%config Completer.use_jedi = False\n",
    "%config IPCompleter.greedy = True\n",
    "```"
   ]
  },
  {
   "cell_type": "code",
   "execution_count": null,
   "id": "61662c5b-888a-4a3d-a9d2-eedfd0af0809",
   "metadata": {},
   "outputs": [],
   "source": [
    "from pyspark.sql import SparkSession\n",
    "from pyspark.sql import functions as F\n",
    "from pyspark.sql import types as T\n",
    "from pyspark.sql import Row\n",
    "from pyspark.sql.window import Window\n",
    "from delta.tables import DeltaTable\n",
    "\n",
    "spark = (\n",
    "    SparkSession.builder \n",
    "    .appName(\"DeltaExample\")\n",
    "    .master(\"local[*]\")\n",
    "    .config(\"spark.ui.enabled\", \"true\")   \n",
    "    .config(\"spark.jars.packages\", \"io.delta:delta-spark_2.13:4.0.0\")\n",
    "    .config(\"spark.sql.extensions\", \"io.delta.sql.DeltaSparkSessionExtension\")\n",
    "    .config(\"spark.sql.catalog.spark_catalog\", \"org.apache.spark.sql.delta.catalog.DeltaCatalog\")\n",
    "    .getOrCreate()\n",
    ")"
   ]
  },
  {
   "cell_type": "code",
   "execution_count": null,
   "id": "b98abf32-a570-4a57-a025-920ca435114e",
   "metadata": {},
   "outputs": [],
   "source": [
    "# Show the SparkUI url (useful for monitoring and debuging)\n",
    "spark.sparkContext.uiWebUrl"
   ]
  },
  {
   "cell_type": "markdown",
   "id": "85eced1a-2bd6-4758-b0ef-fa198d3da229",
   "metadata": {},
   "source": [
    "# Lego warm-up\n",
    "Let's load the Lego data set that can be found in Kaggle"
   ]
  },
  {
   "cell_type": "code",
   "execution_count": null,
   "id": "d56946d6-8235-4f50-bcf5-f79cafb50e65",
   "metadata": {},
   "outputs": [],
   "source": [
    "schema = T.StructType([\n",
    "    T.StructField(\"set_number\", T.StringType(), False),\n",
    "    T.StructField(\"set_name\", T.StringType(), False),\n",
    "    T.StructField(\"year_released\", T.DoubleType(), False),\n",
    "    T.StructField(\"number_of_parts\", T.DoubleType(), False),\n",
    "    T.StructField(\"image_url\", T.StringType(), False),\n",
    "    T.StructField(\"theme_name\", T.StringType(), False)\n",
    "])\n",
    "\n",
    "df = (\n",
    "    spark.read\n",
    "        .schema(schema)\n",
    "        .option(\"header\", \"true\")\n",
    "        .csv(\"data/lego_sets_and_themes.csv\")\n",
    "        .withColumn(\"year_released\", F.col(\"year_released\").cast(T.IntegerType()))\n",
    "        .withColumn(\"number_of_parts\", F.col(\"number_of_parts\").cast(T.IntegerType()))\n",
    "        .na.drop(subset=[\"set_number\"])\n",
    "        .where(\"number_of_parts > 10\")\n",
    ")\n",
    "\n",
    "df.show(10, False)"
   ]
  },
  {
   "cell_type": "markdown",
   "id": "2f85aff1-b1be-4c95-84f2-1bf0de72061f",
   "metadata": {},
   "source": [
    "## Popular theme per decade"
   ]
  },
  {
   "cell_type": "code",
   "execution_count": null,
   "id": "3d2fef22-758d-4cf0-8993-acbcf6fbcb55",
   "metadata": {},
   "outputs": [],
   "source": [
    "df_decade = (\n",
    "    df\n",
    "        .withColumn(\"decade\", (F.col(\"year_released\")/10).cast(\"int\")*10)\n",
    "        .groupBy(\"decade\", \"theme_name\")\n",
    "        .agg(F.avg(\"number_of_parts\").alias(\"avg_parts\"), F.count(\"*\").alias(\"set_count\"))\n",
    ")"
   ]
  },
  {
   "cell_type": "markdown",
   "id": "14c32aa8-7fd1-4f3f-8493-8e517c33565c",
   "metadata": {},
   "source": [
    "### By average number of parts"
   ]
  },
  {
   "cell_type": "code",
   "execution_count": null,
   "id": "c3355aa3-3a07-4b1b-b671-c92cb148292a",
   "metadata": {},
   "outputs": [],
   "source": [
    "w_parts = Window.partitionBy(\"decade\").orderBy(F.desc(\"avg_parts\"))\n",
    "\n",
    "(df_decade\n",
    "    .withColumn(\"rank\", F.row_number().over(w_parts))    \n",
    "    .where(\"rank=1\")\n",
    "    .drop(\"rank\")\n",
    "    .orderBy(F.desc(\"decade\"))\n",
    "    .limit(10)\n",
    "    .show(truncate=False)\n",
    ")"
   ]
  },
  {
   "cell_type": "markdown",
   "id": "fd497fb8-139e-4657-b858-7a45ba7f6821",
   "metadata": {},
   "source": [
    "### By number of sets"
   ]
  },
  {
   "cell_type": "code",
   "execution_count": null,
   "id": "ddad2c0b-989f-40bd-8736-ae462b6642a3",
   "metadata": {},
   "outputs": [],
   "source": [
    "w_sets = Window.partitionBy(\"decade\").orderBy(F.desc(\"set_count\"))\n",
    "\n",
    "(df_decade\n",
    "    .withColumn(\"rank\", F.row_number().over(w_sets))    \n",
    "    .where(\"rank=1\")\n",
    "    .drop(\"rank\")\n",
    "    .orderBy(F.desc(\"decade\"))\n",
    "    .limit(10)\n",
    "    .show(truncate=False)\n",
    ")"
   ]
  },
  {
   "cell_type": "markdown",
   "id": "7ba29fbf-ba9a-4186-b31b-eeb25f292231",
   "metadata": {},
   "source": [
    "## Top10 sets ever by number of parts"
   ]
  },
  {
   "cell_type": "code",
   "execution_count": null,
   "id": "fca5d813-e321-4cc1-8b26-6cc00a065ac6",
   "metadata": {},
   "outputs": [],
   "source": [
    "w = Window.partitionBy(\"theme_name\").orderBy(F.desc(\"number_of_parts\"))\n",
    "\n",
    "top10_sets = (\n",
    "    df.withColumn(\"rank\", F.row_number().over(w))\n",
    "        .filter(\"rank = 1\")\n",
    "        .select(\"theme_name\", \"set_name\", \"number_of_parts\", \"image_url\")\n",
    "        .orderBy(F.col(\"number_of_parts\").desc())\n",
    "        .limit(10)\n",
    ")\n",
    "\n",
    "top10_sets.show(truncate=False)"
   ]
  },
  {
   "cell_type": "markdown",
   "id": "ceafa8fc-1dc2-4fcd-b630-32117801121e",
   "metadata": {},
   "source": [
    "#### ...and just to show-off "
   ]
  },
  {
   "cell_type": "code",
   "execution_count": null,
   "id": "8e939810-40ad-4d33-b9b1-da643893af67",
   "metadata": {},
   "outputs": [],
   "source": [
    "%%bash\n",
    "uv add requests"
   ]
  },
  {
   "cell_type": "code",
   "execution_count": null,
   "id": "a1921b71-4dca-482f-9f50-d31c27f690e3",
   "metadata": {
    "jupyter": {
     "outputs_hidden": true
    }
   },
   "outputs": [],
   "source": [
    "import requests\n",
    "from IPython.display import Image, display\n",
    "\n",
    "for url in [r[\"image_url\"] for r in top10_sets.select(\"image_url\").collect()]:\n",
    "    resp = requests.get(url, timeout=5)\n",
    "    display(Image(data=resp.content))\n"
   ]
  },
  {
   "cell_type": "markdown",
   "id": "417af03c-4c02-42f2-8605-293018aebe32",
   "metadata": {},
   "source": [
    "# Delta format\n",
    "* Create (or load from csv) a data frame\n",
    "* Save it as delta\n",
    "* Update a couple of records\n",
    "* Insert a few more\n",
    "* Show time travel"
   ]
  },
  {
   "cell_type": "code",
   "execution_count": null,
   "id": "475383b5",
   "metadata": {},
   "outputs": [],
   "source": [
    "%load_ext sparksql_magic"
   ]
  },
  {
   "cell_type": "code",
   "execution_count": null,
   "id": "1dbd0a7d",
   "metadata": {},
   "outputs": [],
   "source": [
    "%%sparksql\n",
    "create database if not exists lego;"
   ]
  },
  {
   "cell_type": "code",
   "execution_count": null,
   "id": "bdd94f4b",
   "metadata": {},
   "outputs": [],
   "source": [
    "%%sparksql\n",
    "create table if not exists lego.lego_sets\n",
    "(\n",
    "  set_number STRING,\n",
    "  set_name STRING,\n",
    "  year_released INT,\n",
    "  number_of_parts INT,\n",
    "  image_url STRING,\n",
    "  theme_name STRING\n",
    ")\n",
    "using delta\n",
    "partitioned by (year_released)"
   ]
  },
  {
   "cell_type": "code",
   "execution_count": null,
   "id": "fa674650",
   "metadata": {},
   "outputs": [],
   "source": [
    "%%sparksql\n",
    "describe table lego.lego_sets"
   ]
  },
  {
   "cell_type": "code",
   "execution_count": null,
   "id": "a20f5528-eb1b-4e52-8650-f3b9578d3a47",
   "metadata": {},
   "outputs": [],
   "source": [
    "# 1. Create a DataFrame\n",
    "data = [(1, \"Alice\", 30),\n",
    "        (2, \"Bob\", 25),\n",
    "        (3, \"Carol\", 40)]\n",
    "df = spark.createDataFrame(data, [\"id\", \"name\", \"age\"])"
   ]
  },
  {
   "cell_type": "code",
   "execution_count": null,
   "id": "2474e07a-b898-4a61-8812-eac1c8e2de8f",
   "metadata": {},
   "outputs": [],
   "source": [
    "# 2. Save as Delta (local path)\n",
    "path = \"./delta/people\"\n",
    "df.write.format(\"delta\").mode(\"overwrite\").save(path)\n",
    "\n",
    "# Load as DeltaTable\n",
    "deltaTable = DeltaTable.forPath(spark, path)"
   ]
  },
  {
   "cell_type": "code",
   "execution_count": null,
   "id": "74e88b50-f932-4c7e-92c5-22e573e92712",
   "metadata": {},
   "outputs": [],
   "source": [
    "# 3. Update records\n",
    "deltaTable.update(\n",
    "    condition=\"id = 1\",\n",
    "    set={\"age\": F.col(\"age\") + 1}  # Alice becomes 31\n",
    ")"
   ]
  },
  {
   "cell_type": "code",
   "execution_count": null,
   "id": "9bf8b307-d622-427e-8fff-7666c29399ba",
   "metadata": {},
   "outputs": [],
   "source": [
    "# 4. Insert new records\n",
    "new_data = [(4, \"David\", 22),\n",
    "            (5, \"Eva\", 29)]\n",
    "new_df = spark.createDataFrame(new_data, [\"id\", \"name\", \"age\"])\n",
    "deltaTable.alias(\"t\").merge(\n",
    "    new_df.alias(\"s\"),\n",
    "    \"t.id = s.id\"\n",
    ").whenNotMatchedInsertAll().execute()\n"
   ]
  },
  {
   "cell_type": "code",
   "execution_count": null,
   "id": "1904bb9a-0768-4e91-a359-a73af4469e2f",
   "metadata": {},
   "outputs": [],
   "source": [
    "# 5. Show history (for time travel)\n",
    "deltaTable.history().show(truncate=False)# Current data\n",
    "print(\"Current data:\")\n",
    "spark.read.format(\"delta\").load(path).show()"
   ]
  },
  {
   "cell_type": "code",
   "execution_count": null,
   "id": "215b356a-0f98-48cf-810a-cf6f932577e0",
   "metadata": {},
   "outputs": [],
   "source": [
    "# Current data\n",
    "print(\"Current data:\")\n",
    "spark.read.format(\"delta\").load(path).show()"
   ]
  },
  {
   "cell_type": "code",
   "execution_count": null,
   "id": "afbe6878-4116-426d-9e58-7d52f1e11466",
   "metadata": {},
   "outputs": [],
   "source": [
    "# 6. Time travel: load version 0 (original data)\n",
    "print(\"Version 0:\")\n",
    "spark.read.format(\"delta\").option(\"versionAsOf\", 0).load(path).show()"
   ]
  },
  {
   "cell_type": "code",
   "execution_count": null,
   "id": "af54800a-f440-4b17-a036-e901082fd9c5",
   "metadata": {},
   "outputs": [],
   "source": [
    "spark.read.format(\"delta\").option(\"timestampAsOf\", \"2025-09-26T08:55:00\").load(path).show()"
   ]
  }
 ],
 "metadata": {
  "kernelspec": {
   "display_name": "pyspark-delta (.venv)",
   "language": "python",
   "name": "pyspark_venv"
  }
 },
 "nbformat": 4,
 "nbformat_minor": 5
}
