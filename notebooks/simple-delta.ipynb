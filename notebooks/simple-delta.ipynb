{
 "cells": [
  {
   "cell_type": "markdown",
   "id": "a6554c1b",
   "metadata": {},
   "source": [
    "# Spark with Delta Lake in Jupyter Notebooks\n",
    "\n",
    "There are several things that need special attention.\n",
    "\n",
    "- Configure `\"spark.jars.packages\", \"io.delta:delta-spark_2.13:4.0.0\"` in order to download the Delta Lake jvm artifact.\n",
    "- Configure `\"spark.sql.warehouse.dir\", \"./spark-warehouse\"` to set the location of the Spark SQL warehouse. This will be the location where managed tables are stored.\n",
    "- Configure `\"javax.jdo.option.ConnectionURL\", \"jdbc:derby:;databaseName=./metastore/metastore_db;create=true\"` and `enableHiveSupport()` in order to use the Hive metastore to manage tables. This will create a local Derby database to store the metadata of the tables and will allow to look up tables by name.\n",
    "- You need to have the `sparksql-magic` extension installed and `%load_ext sparksql_magic` in order to be able to run SQL queries in a cell magic using `%%sparksql`.\n",
    "- Alternatively, and maybe it is easier, you can use the DataFrame API and point to the datafiles directly. In that case you don't need the SQL Warehouse, the Hive metastore and the `sparksql-magic` extension."
   ]
  },
  {
   "cell_type": "code",
   "execution_count": null,
   "id": "475383b5",
   "metadata": {},
   "outputs": [],
   "source": [
    "%load_ext sparksql_magic"
   ]
  },
  {
   "cell_type": "code",
   "execution_count": null,
   "id": "61662c5b-888a-4a3d-a9d2-eedfd0af0809",
   "metadata": {},
   "outputs": [],
   "source": [
    "from pyspark.sql import SparkSession\n",
    "from pyspark.sql import functions as F\n",
    "from pyspark.sql import types as T\n",
    "from pyspark.sql import Row\n",
    "from pyspark.sql.window import Window\n",
    "from delta.tables import DeltaTable\n",
    "\n",
    "spark = (\n",
    "    SparkSession.builder \n",
    "    .appName(\"DeltaExample\")\n",
    "    .master(\"local[*]\")\n",
    "    .config(\"spark.ui.enabled\", \"true\")   \n",
    "    .config(\"spark.jars.packages\", \"io.delta:delta-spark_2.13:4.0.0\")\n",
    "    .config(\"spark.sql.extensions\", \"io.delta.sql.DeltaSparkSessionExtension\")\n",
    "    .config(\"spark.sql.catalog.spark_catalog\", \"org.apache.spark.sql.delta.catalog.DeltaCatalog\")\n",
    "    .config(\"spark.sql.warehouse.dir\", \"../spark-warehouse\")\n",
    "    .config(\"javax.jdo.option.ConnectionURL\", \"jdbc:derby:;databaseName=../metastore/metastore_db;create=true\")\n",
    "    .enableHiveSupport()    # persist metastore across sessions (embedded Hive metastore)\n",
    "    .getOrCreate()\n",
    ")\n",
    "\n",
    "# Show the SparkUI url (useful for monitoring and debuging)\n",
    "spark.sparkContext.uiWebUrl"
   ]
  },
  {
   "cell_type": "code",
   "execution_count": null,
   "id": "1dbd0a7d",
   "metadata": {},
   "outputs": [],
   "source": [
    "%%sparksql\n",
    "create database if not exists marvel_db;"
   ]
  },
  {
   "cell_type": "code",
   "execution_count": null,
   "id": "e21d41b7",
   "metadata": {},
   "outputs": [],
   "source": [
    "%%sparksql\n",
    "use marvel_db;"
   ]
  },
  {
   "cell_type": "code",
   "execution_count": null,
   "id": "4b6284da",
   "metadata": {},
   "outputs": [],
   "source": [
    "%%sparksql\n",
    "describe database marvel_db;"
   ]
  },
  {
   "cell_type": "code",
   "execution_count": null,
   "id": "fcf6c162",
   "metadata": {},
   "outputs": [],
   "source": [
    "%%sparksql\n",
    "show tables;"
   ]
  },
  {
   "cell_type": "code",
   "execution_count": null,
   "id": "bdd94f4b",
   "metadata": {},
   "outputs": [],
   "source": [
    "%%sparksql\n",
    "create table if not exists marvel_db.superheroes\n",
    "(\n",
    "  id INT,\n",
    "  hero_name STRING,\n",
    "  secret_identity STRING,\n",
    "  power_level INT\n",
    ")\n",
    "using delta"
   ]
  },
  {
   "cell_type": "code",
   "execution_count": null,
   "id": "fa674650",
   "metadata": {},
   "outputs": [],
   "source": [
    "%%sparksql\n",
    "describe table marvel_db.superheroes"
   ]
  },
  {
   "cell_type": "code",
   "execution_count": null,
   "id": "ec18ebf0",
   "metadata": {},
   "outputs": [],
   "source": [
    "schema = T.StructType([\n",
    "    T.StructField(\"id\", T.IntegerType(), False),\n",
    "    T.StructField(\"hero_name\", T.StringType(), False),\n",
    "    T.StructField(\"secret_identity\", T.StringType(), False),\n",
    "    T.StructField(\"power_level\", T.IntegerType(), False)\n",
    "])"
   ]
  },
  {
   "cell_type": "code",
   "execution_count": null,
   "id": "3ed4ac03",
   "metadata": {},
   "outputs": [],
   "source": [
    "raw_df = (\n",
    "    spark.read\n",
    "        .schema(schema)\n",
    "        .option(\"header\", \"true\")\n",
    "        .csv(\"../data/marvel.csv\")\n",
    ")\n",
    "\n",
    "raw_df.createOrReplaceTempView(\"superheroes_raw\")"
   ]
  },
  {
   "cell_type": "code",
   "execution_count": null,
   "id": "a0d5b793-dcf6-4ca0-a6b4-6db0e7be873d",
   "metadata": {},
   "outputs": [],
   "source": [
    "%%sparksql\n",
    "select * from superheroes_raw"
   ]
  },
  {
   "cell_type": "code",
   "execution_count": null,
   "id": "2b58488b-5a8b-45a1-964c-55547bcca8c6",
   "metadata": {},
   "outputs": [],
   "source": [
    "%%sparksql\n",
    "DELETE FROM superheroes;"
   ]
  },
  {
   "cell_type": "code",
   "execution_count": null,
   "id": "608d5fd5",
   "metadata": {},
   "outputs": [],
   "source": [
    "%%sparksql\n",
    "INSERT INTO marvel_db.superheroes (\n",
    "  id,\n",
    "  hero_name,\n",
    "  secret_identity,\n",
    "  power_level\n",
    ")\n",
    "SELECT\n",
    "  id,\n",
    "  hero_name,\n",
    "  secret_identity,\n",
    "  power_level\n",
    "FROM superheroes_raw;"
   ]
  },
  {
   "cell_type": "code",
   "execution_count": null,
   "id": "76bb0d87-2ac6-4db6-8aa6-5db796e1ba94",
   "metadata": {},
   "outputs": [],
   "source": [
    "%%sparksql\n",
    "select * from superheroes;"
   ]
  },
  {
   "cell_type": "code",
   "execution_count": null,
   "id": "cd896641",
   "metadata": {},
   "outputs": [],
   "source": [
    "raw_df_mod = (\n",
    "    spark.read\n",
    "        .schema(schema)\n",
    "        .option(\"header\", \"true\")\n",
    "        .csv(\"../data/marvel_mod.csv\")\n",
    ")\n",
    "\n",
    "raw_df_mod.createOrReplaceTempView(\"superheroes_raw_mod\")"
   ]
  },
  {
   "cell_type": "code",
   "execution_count": null,
   "id": "563db028",
   "metadata": {},
   "outputs": [],
   "source": [
    "%%sparksql\n",
    "MERGE INTO superheroes AS target\n",
    "USING superheroes_raw_mod AS source\n",
    "  ON target.id = source.id\n",
    "WHEN MATCHED THEN UPDATE SET\n",
    "  target.id = source.id,\n",
    "  target.hero_name = source.hero_name,\n",
    "  target.secret_identity = source.secret_identity,\n",
    "  target.power_level = source.power_level\n",
    "WHEN NOT MATCHED THEN INSERT (\n",
    "  id, hero_name, secret_identity, power_level\n",
    ") VALUES (\n",
    "  source.id, source.hero_name, source.secret_identity, source.power_level\n",
    ")\n",
    "WHEN NOT MATCHED BY SOURCE THEN DELETE;"
   ]
  },
  {
   "cell_type": "code",
   "execution_count": null,
   "id": "392c1c65",
   "metadata": {},
   "outputs": [],
   "source": [
    "%%sparksql\n",
    "select * from superheroes;"
   ]
  },
  {
   "cell_type": "code",
   "execution_count": null,
   "id": "c5b62ca3",
   "metadata": {},
   "outputs": [],
   "source": [
    "%%sparksql\n",
    "UPDATE superheroes\n",
    "SET power_level = power_level + 1\n",
    "WHERE hero_name = 'Iron Man'"
   ]
  },
  {
   "cell_type": "code",
   "execution_count": null,
   "id": "7f5ba9c6",
   "metadata": {},
   "outputs": [],
   "source": [
    "%%sparksql\n",
    "DELETE FROM superheroes WHERE hero_name = 'Ant-Man'"
   ]
  },
  {
   "cell_type": "code",
   "execution_count": null,
   "id": "7b9589b1",
   "metadata": {},
   "outputs": [],
   "source": [
    "%%sparksql\n",
    "DESCRIBE HISTORY marvel_db.superheroes;"
   ]
  },
  {
   "cell_type": "code",
   "execution_count": null,
   "id": "f785d725",
   "metadata": {},
   "outputs": [],
   "source": [
    "%%sparksql\n",
    "DESCRIBE DETAIL marvel_db.superheroes;"
   ]
  },
  {
   "cell_type": "code",
   "execution_count": null,
   "id": "f7584f32",
   "metadata": {},
   "outputs": [],
   "source": [
    "%%sparksql\n",
    "SELECT * FROM marvel_db.superheroes VERSION AS OF 1;"
   ]
  },
  {
   "cell_type": "code",
   "execution_count": null,
   "id": "3096b0ee",
   "metadata": {},
   "outputs": [],
   "source": [
    "%%sparksql\n",
    "SELECT * FROM marvel_db.superheroes VERSION AS OF 2;"
   ]
  },
  {
   "cell_type": "code",
   "execution_count": null,
   "id": "da6b994d",
   "metadata": {},
   "outputs": [],
   "source": [
    "# %%sparksql\n",
    "# SELECT * FROM marvel_db.superheroes TIMESTAMP AS OF '2025-10-17 17:56:00';"
   ]
  },
  {
   "cell_type": "code",
   "execution_count": null,
   "id": "a4576c5b",
   "metadata": {},
   "outputs": [],
   "source": [
    "# %%sparksql\n",
    "# SELECT * FROM marvel_db.superheroes TIMESTAMP AS OF '2025-10-17 17:57:00';"
   ]
  },
  {
   "cell_type": "code",
   "execution_count": null,
   "id": "2f2f8d59-5e26-43f2-89f3-892f3c5d57be",
   "metadata": {},
   "outputs": [],
   "source": [
    "%%sparksql\n",
    "RESTORE TABLE marvel_db.superheroes TO VERSION AS OF 1;"
   ]
  },
  {
   "cell_type": "code",
   "execution_count": null,
   "id": "41a74334-dd95-4ea1-93f1-c186ce601500",
   "metadata": {},
   "outputs": [],
   "source": [
    "# %%sparksql\n",
    "# RESTORE TABLE marvel_db.superheroes TO TIMESTAMP AS OF '2025-10-17 22:35:00';"
   ]
  },
  {
   "cell_type": "code",
   "execution_count": null,
   "id": "dd9205ce-12b9-41e0-83af-acdf11926721",
   "metadata": {},
   "outputs": [],
   "source": [
    "%%sparksql\n",
    "DESCRIBE DETAIL marvel_db.superheroes;"
   ]
  },
  {
   "cell_type": "code",
   "execution_count": null,
   "id": "dcbe4a8b-a718-425c-aab4-ff8fecff46ba",
   "metadata": {},
   "outputs": [],
   "source": []
  }
 ],
 "metadata": {
  "kernelspec": {
   "display_name": "pyspark-delta (.venv)",
   "language": "python",
   "name": "pyspark_venv"
  },
  "language_info": {
   "codemirror_mode": {
    "name": "ipython",
    "version": 3
   },
   "file_extension": ".py",
   "mimetype": "text/x-python",
   "name": "python",
   "nbconvert_exporter": "python",
   "pygments_lexer": "ipython3",
   "version": "3.11.4"
  }
 },
 "nbformat": 4,
 "nbformat_minor": 5
}
