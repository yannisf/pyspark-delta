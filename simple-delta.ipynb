{
 "cells": [
  {
   "cell_type": "markdown",
   "id": "a6554c1b",
   "metadata": {},
   "source": [
    "# Spark with Delta Lake in Jupyter Notebooks\n",
    "\n",
    "There are several things that need special attention.\n",
    "\n",
    "- You need the config `\"spark.jars.packages\", \"io.delta:delta-spark_2.13:4.0.0\"` in order to download the Delta Lake jvm artifact.\n",
    "- You need the config `\"spark.sql.warehouse.dir\", \"./spark-warehouse\"` to set the location of the Spark SQL warehouse. This will be the location where managed tables are stored.\n",
    "- You need the config `\"javax.jdo.option.ConnectionURL\", \"jdbc:derby:;databaseName=./metastore/metastore_db;create=true\"` and `enableHiveSupport()` in order to use the Hive metastore to manage tables. This will create a local Derby database to store the metadata of the tables and will allow to look up tables by name.\n",
    "- You need to have the `sparksql-magic` extension installed and `%load_ext sparksql_magic` in order to be able to run SQL queries in a cell magic using `%%sparksql`.\n",
    "- Alternatively, and maybe it is easier, you can use the DataFrame API and point to the datafiles directly. In that case you don't need the SQL Warehouse, the Hive metastore and the `sparksql-magic` extension."
   ]
  },
  {
   "cell_type": "code",
   "execution_count": null,
   "id": "475383b5",
   "metadata": {},
   "outputs": [],
   "source": [
    "%load_ext sparksql_magic"
   ]
  },
  {
   "cell_type": "code",
   "execution_count": null,
   "id": "61662c5b-888a-4a3d-a9d2-eedfd0af0809",
   "metadata": {},
   "outputs": [],
   "source": [
    "from pyspark.sql import SparkSession\n",
    "from pyspark.sql import functions as F\n",
    "from pyspark.sql import types as T\n",
    "from pyspark.sql import Row\n",
    "from pyspark.sql.window import Window\n",
    "from delta.tables import DeltaTable\n",
    "\n",
    "spark = (\n",
    "    SparkSession.builder \n",
    "    .appName(\"DeltaExample\")\n",
    "    .master(\"local[*]\")\n",
    "    .config(\"spark.ui.enabled\", \"true\")   \n",
    "    .config(\"spark.jars.packages\", \"io.delta:delta-spark_2.13:4.0.0\")\n",
    "    .config(\"spark.sql.extensions\", \"io.delta.sql.DeltaSparkSessionExtension\")\n",
    "    .config(\"spark.sql.catalog.spark_catalog\", \"org.apache.spark.sql.delta.catalog.DeltaCatalog\")\n",
    "    .config(\"spark.sql.warehouse.dir\", \"./spark-warehouse\")\n",
    "    .config(\"javax.jdo.option.ConnectionURL\", \"jdbc:derby:;databaseName=./metastore/metastore_db;create=true\")\n",
    "    .enableHiveSupport()    # persist metastore across sessions (embedded Hive metastore)\n",
    "    .getOrCreate()\n",
    ")\n",
    "\n",
    "# Show the SparkUI url (useful for monitoring and debuging)\n",
    "spark.sparkContext.uiWebUrl"
   ]
  },
  {
   "cell_type": "code",
   "execution_count": null,
   "id": "1dbd0a7d",
   "metadata": {},
   "outputs": [],
   "source": [
    "%%sparksql\n",
    "create database if not exists marvel_db;"
   ]
  },
  {
   "cell_type": "code",
   "execution_count": null,
   "id": "e21d41b7",
   "metadata": {},
   "outputs": [],
   "source": [
    "%%sparksql\n",
    "use marvel_db;"
   ]
  },
  {
   "cell_type": "code",
   "execution_count": null,
   "id": "4b6284da",
   "metadata": {},
   "outputs": [],
   "source": [
    "%%sparksql\n",
    "describe database marvel_db;"
   ]
  },
  {
   "cell_type": "code",
   "execution_count": null,
   "id": "fcf6c162",
   "metadata": {},
   "outputs": [],
   "source": [
    "%%sparksql\n",
    "show tables;"
   ]
  },
  {
   "cell_type": "code",
   "execution_count": null,
   "id": "bdd94f4b",
   "metadata": {},
   "outputs": [],
   "source": [
    "%%sparksql\n",
    "create table if not exists marvel_db.superheroes\n",
    "(\n",
    "  id INT,\n",
    "  hero_name STRING,\n",
    "  secret_identity STRING,\n",
    "  power_level INT\n",
    ")\n",
    "using delta"
   ]
  },
  {
   "cell_type": "code",
   "execution_count": null,
   "id": "fa674650",
   "metadata": {},
   "outputs": [],
   "source": [
    "%%sparksql\n",
    "describe table marvel_db.superheroes"
   ]
  },
  {
   "cell_type": "code",
   "execution_count": null,
   "id": "ec18ebf0",
   "metadata": {},
   "outputs": [],
   "source": [
    "schema = T.StructType([\n",
    "    T.StructField(\"id\", T.IntegerType(), False),\n",
    "    T.StructField(\"hero_name\", T.StringType(), False),\n",
    "    T.StructField(\"secret_identity\", T.StringType(), False),\n",
    "    T.StructField(\"power_level\", T.IntegerType(), False)\n",
    "])"
   ]
  },
  {
   "cell_type": "code",
   "execution_count": null,
   "id": "3ed4ac03",
   "metadata": {},
   "outputs": [],
   "source": [
    "raw_df = (\n",
    "    spark.read\n",
    "        .schema(schema)\n",
    "        .option(\"header\", \"true\")\n",
    "        .csv(\"data/marvel.csv\")\n",
    ")\n",
    "\n",
    "raw_df.createOrReplaceTempView(\"superheroes_raw\")"
   ]
  },
  {
   "cell_type": "code",
   "execution_count": null,
   "id": "a0d5b793-dcf6-4ca0-a6b4-6db0e7be873d",
   "metadata": {},
   "outputs": [],
   "source": [
    "%%sparksql\n",
    "select * from superheroes_raw"
   ]
  },
  {
   "cell_type": "code",
   "execution_count": null,
   "id": "608d5fd5",
   "metadata": {},
   "outputs": [],
   "source": [
    "%%sparksql\n",
    "INSERT INTO marvel_db.superheroes (\n",
    "  id,\n",
    "  hero_name,\n",
    "  secret_identity,\n",
    "  power_level\n",
    ")\n",
    "SELECT\n",
    "  id,\n",
    "  hero_name,\n",
    "  secret_identity,\n",
    "  power_level\n",
    "FROM superheroes_raw;"
   ]
  },
  {
   "cell_type": "code",
   "execution_count": 46,
   "id": "76bb0d87-2ac6-4db6-8aa6-5db796e1ba94",
   "metadata": {},
   "outputs": [
    {
     "name": "stderr",
     "output_type": "stream",
     "text": [
      "                                                                                "
     ]
    },
    {
     "data": {
      "text/html": [
       "<table><tr style=\"border-bottom: 1px solid\"><td style=\"font-weight: bold\">id</td><td style=\"font-weight: bold\">hero_name</td><td style=\"font-weight: bold\">secret_identity</td><td style=\"font-weight: bold\">power_level</td></tr><tr><td>1</td><td>Iron Man</td><td>Tony Stark</td><td>97</td></tr><tr><td>2</td><td>Captain America</td><td>Steve Rogers</td><td>88</td></tr><tr><td>3</td><td>Thor</td><td>null</td><td>98</td></tr><tr><td>4</td><td>Hulk</td><td>Bruce Banner</td><td>97</td></tr><tr><td>5</td><td>Black Widow</td><td>Natasha Romanoff</td><td>75</td></tr><tr><td>6</td><td>Spider-Man</td><td>Peter Parker</td><td>92</td></tr><tr><td>7</td><td>Black Panther</td><td>T&#x27;Challa</td><td>89</td></tr><tr><td>9</td><td>Scarlet Witch</td><td>Wanda Maximoff</td><td>94</td></tr><tr><td>10</td><td>Hawkeye</td><td>Clint Barton</td><td>70</td></tr><tr><td>11</td><td>Ant-Man</td><td>Scott Lang</td><td>80</td></tr></table>"
      ],
      "text/plain": [
       "<IPython.core.display.HTML object>"
      ]
     },
     "execution_count": 46,
     "metadata": {},
     "output_type": "execute_result"
    }
   ],
   "source": [
    "%%sparksql\n",
    "select * from superheroes;"
   ]
  },
  {
   "cell_type": "code",
   "execution_count": null,
   "id": "cd896641",
   "metadata": {},
   "outputs": [],
   "source": [
    "raw_df_mod = (\n",
    "    spark.read\n",
    "        .schema(schema)\n",
    "        .option(\"header\", \"true\")\n",
    "        .csv(\"data/marvel_mod.csv\")\n",
    ")\n",
    "\n",
    "raw_df_mod.createOrReplaceTempView(\"superheroes_raw_mod\")"
   ]
  },
  {
   "cell_type": "code",
   "execution_count": null,
   "id": "563db028",
   "metadata": {},
   "outputs": [],
   "source": [
    "%%sparksql\n",
    "MERGE INTO superheroes AS target\n",
    "USING superheroes_raw_mod AS source\n",
    "  ON target.id = source.id\n",
    "WHEN MATCHED THEN UPDATE SET\n",
    "  target.id = source.id,\n",
    "  target.hero_name = source.hero_name,\n",
    "  target.secret_identity = source.secret_identity,\n",
    "  target.power_level = source.power_level\n",
    "WHEN NOT MATCHED THEN INSERT (\n",
    "  id, hero_name, secret_identity, power_level\n",
    ") VALUES (\n",
    "  source.id, source.hero_name, source.secret_identity, source.power_level\n",
    ")\n",
    "WHEN NOT MATCHED BY SOURCE THEN DELETE;"
   ]
  },
  {
   "cell_type": "code",
   "execution_count": 48,
   "id": "392c1c65",
   "metadata": {},
   "outputs": [
    {
     "name": "stderr",
     "output_type": "stream",
     "text": [
      "                                                                                "
     ]
    },
    {
     "data": {
      "text/html": [
       "<table><tr style=\"border-bottom: 1px solid\"><td style=\"font-weight: bold\">id</td><td style=\"font-weight: bold\">hero_name</td><td style=\"font-weight: bold\">secret_identity</td><td style=\"font-weight: bold\">power_level</td></tr><tr><td>1</td><td>Iron Man</td><td>Tony Stark</td><td>95</td></tr><tr><td>2</td><td>Captain America</td><td>Steve Rogers</td><td>88</td></tr><tr><td>3</td><td>Thor</td><td>Thor Odinson</td><td>98</td></tr><tr><td>4</td><td>Hulk</td><td>Bruce Banner</td><td>97</td></tr><tr><td>5</td><td>Black Widow</td><td>Natasha Romanoff</td><td>75</td></tr><tr><td>6</td><td>Spider-Man</td><td>Peter Parker</td><td>92</td></tr><tr><td>7</td><td>Black Panther</td><td>T&#x27;Challa</td><td>89</td></tr><tr><td>8</td><td>Doctor Strange</td><td>Stephen Strange</td><td>93</td></tr><tr><td>9</td><td>Scarlet Witch</td><td>Wanda Maximoff</td><td>94</td></tr><tr><td>10</td><td>Hawkeye</td><td>Clint Barton</td><td>70</td></tr></table>"
      ],
      "text/plain": [
       "<IPython.core.display.HTML object>"
      ]
     },
     "execution_count": 48,
     "metadata": {},
     "output_type": "execute_result"
    }
   ],
   "source": [
    "%%sparksql\n",
    "select * from superheroes;"
   ]
  },
  {
   "cell_type": "code",
   "execution_count": null,
   "id": "c5b62ca3",
   "metadata": {},
   "outputs": [],
   "source": [
    "%%sparksql\n",
    "UPDATE superheroes\n",
    "SET power_level = power_level + 1\n",
    "WHERE hero_name = 'Iron Man'"
   ]
  },
  {
   "cell_type": "code",
   "execution_count": null,
   "id": "7f5ba9c6",
   "metadata": {},
   "outputs": [],
   "source": [
    "%%sparksql\n",
    "DELETE FROM superheroes WHERE hero_name = 'Ant-Man'"
   ]
  },
  {
   "cell_type": "code",
   "execution_count": 49,
   "id": "7b9589b1",
   "metadata": {},
   "outputs": [
    {
     "data": {
      "text/html": [
       "<table><tr style=\"border-bottom: 1px solid\"><td style=\"font-weight: bold\">version</td><td style=\"font-weight: bold\">timestamp</td><td style=\"font-weight: bold\">userId</td><td style=\"font-weight: bold\">userName</td><td style=\"font-weight: bold\">operation</td><td style=\"font-weight: bold\">operationParameters</td><td style=\"font-weight: bold\">job</td><td style=\"font-weight: bold\">notebook</td><td style=\"font-weight: bold\">clusterId</td><td style=\"font-weight: bold\">readVersion</td><td style=\"font-weight: bold\">isolationLevel</td><td style=\"font-weight: bold\">isBlindAppend</td><td style=\"font-weight: bold\">operationMetrics</td><td style=\"font-weight: bold\">userMetadata</td><td style=\"font-weight: bold\">engineInfo</td></tr><tr><td>11</td><td>2025-10-17 22:57:04.630000</td><td>null</td><td>null</td><td>RESTORE</td><td>{&#x27;version&#x27;: &#x27;1&#x27;, &#x27;timestamp&#x27;: None}</td><td>null</td><td>null</td><td>null</td><td>10</td><td>Serializable</td><td>False</td><td>{&#x27;removedFilesSize&#x27;: &#x27;1642&#x27;, &#x27;tableSizeAfterRestore&#x27;: &#x27;1679&#x27;, &#x27;numRemovedFiles&#x27;: &#x27;1&#x27;, &#x27;restoredFilesSize&#x27;: &#x27;1679&#x27;, &#x27;numOfFilesAfterRestore&#x27;: &#x27;1&#x27;, &#x27;numRestoredFiles&#x27;: &#x27;1&#x27;}</td><td>null</td><td>Apache-Spark/4.0.1 Delta-Lake/4.0.0</td></tr><tr><td>10</td><td>2025-10-17 22:56:17.177000</td><td>null</td><td>null</td><td>RESTORE</td><td>{&#x27;version&#x27;: &#x27;2&#x27;, &#x27;timestamp&#x27;: None}</td><td>null</td><td>null</td><td>null</td><td>9</td><td>Serializable</td><td>False</td><td>{&#x27;removedFilesSize&#x27;: &#x27;1785&#x27;, &#x27;tableSizeAfterRestore&#x27;: &#x27;1642&#x27;, &#x27;numRemovedFiles&#x27;: &#x27;1&#x27;, &#x27;restoredFilesSize&#x27;: &#x27;1642&#x27;, &#x27;numOfFilesAfterRestore&#x27;: &#x27;1&#x27;, &#x27;numRestoredFiles&#x27;: &#x27;1&#x27;}</td><td>null</td><td>Apache-Spark/4.0.1 Delta-Lake/4.0.0</td></tr><tr><td>9</td><td>2025-10-17 22:22:45.441000</td><td>null</td><td>null</td><td>DELETE</td><td>{&#x27;predicate&#x27;: &#x27;[&quot;(hero_name#2530 = Ant-Man)&quot;]&#x27;}</td><td>null</td><td>null</td><td>null</td><td>8</td><td>Serializable</td><td>False</td><td>{&#x27;numDeletionVectorsUpdated&#x27;: &#x27;0&#x27;, &#x27;numAddedFiles&#x27;: &#x27;1&#x27;, &#x27;executionTimeMs&#x27;: &#x27;1817&#x27;, &#x27;numDeletionVectorsRemoved&#x27;: &#x27;0&#x27;, &#x27;numRemovedFiles&#x27;: &#x27;1&#x27;, &#x27;rewriteTimeMs&#x27;: &#x27;260&#x27;, &#x27;numRemovedBytes&#x27;: &#x27;1816&#x27;, &#x27;scanTimeMs&#x27;: &#x27;1556&#x27;, &#x27;numCopiedRows&#x27;: &#x27;18&#x27;, &#x27;numDeletionVectorsAdded&#x27;: &#x27;0&#x27;, &#x27;numAddedChangeFiles&#x27;: &#x27;0&#x27;, &#x27;numDeletedRows&#x27;: &#x27;1&#x27;, &#x27;numAddedBytes&#x27;: &#x27;1785&#x27;}</td><td>null</td><td>Apache-Spark/4.0.1 Delta-Lake/4.0.0</td></tr><tr><td>8</td><td>2025-10-17 22:22:41.703000</td><td>null</td><td>null</td><td>UPDATE</td><td>{&#x27;predicate&#x27;: &#x27;[&quot;(hero_name#2073 = Iron Man)&quot;]&#x27;}</td><td>null</td><td>null</td><td>null</td><td>7</td><td>Serializable</td><td>False</td><td>{&#x27;numDeletionVectorsUpdated&#x27;: &#x27;0&#x27;, &#x27;numAddedFiles&#x27;: &#x27;1&#x27;, &#x27;executionTimeMs&#x27;: &#x27;1350&#x27;, &#x27;numDeletionVectorsRemoved&#x27;: &#x27;0&#x27;, &#x27;numUpdatedRows&#x27;: &#x27;2&#x27;, &#x27;numRemovedFiles&#x27;: &#x27;1&#x27;, &#x27;rewriteTimeMs&#x27;: &#x27;311&#x27;, &#x27;numRemovedBytes&#x27;: &#x27;1817&#x27;, &#x27;scanTimeMs&#x27;: &#x27;1036&#x27;, &#x27;numCopiedRows&#x27;: &#x27;17&#x27;, &#x27;numDeletionVectorsAdded&#x27;: &#x27;0&#x27;, &#x27;numAddedChangeFiles&#x27;: &#x27;0&#x27;, &#x27;numAddedBytes&#x27;: &#x27;1816&#x27;}</td><td>null</td><td>Apache-Spark/4.0.1 Delta-Lake/4.0.0</td></tr><tr><td>7</td><td>2025-10-17 22:22:36.613000</td><td>null</td><td>null</td><td>MERGE</td><td>{&#x27;matchedPredicates&#x27;: &#x27;[{&quot;actionType&quot;:&quot;update&quot;}]&#x27;, &#x27;predicate&#x27;: &#x27;[&quot;(id#984 = id#980)&quot;]&#x27;, &#x27;notMatchedBySourcePredicates&#x27;: &#x27;[{&quot;actionType&quot;:&quot;delete&quot;}]&#x27;, &#x27;notMatchedPredicates&#x27;: &#x27;[{&quot;actionType&quot;:&quot;insert&quot;}]&#x27;}</td><td>null</td><td>null</td><td>null</td><td>6</td><td>Serializable</td><td>False</td><td>{&#x27;numOutputRows&#x27;: &#x27;19&#x27;, &#x27;numTargetBytesAdded&#x27;: &#x27;1817&#x27;, &#x27;numTargetRowsInserted&#x27;: &#x27;1&#x27;, &#x27;numTargetRowsMatchedDeleted&#x27;: &#x27;0&#x27;, &#x27;numTargetFilesAdded&#x27;: &#x27;1&#x27;, &#x27;materializeSourceTimeMs&#x27;: &#x27;122&#x27;, &#x27;numTargetFilesRemoved&#x27;: &#x27;2&#x27;, &#x27;numTargetRowsMatchedUpdated&#x27;: &#x27;18&#x27;, &#x27;executionTimeMs&#x27;: &#x27;2457&#x27;, &#x27;numTargetDeletionVectorsUpdated&#x27;: &#x27;0&#x27;, &#x27;numTargetRowsCopied&#x27;: &#x27;0&#x27;, &#x27;rewriteTimeMs&#x27;: &#x27;685&#x27;, &#x27;numTargetRowsUpdated&#x27;: &#x27;18&#x27;, &#x27;numTargetDeletionVectorsRemoved&#x27;: &#x27;0&#x27;, &#x27;numTargetRowsDeleted&#x27;: &#x27;1&#x27;, &#x27;scanTimeMs&#x27;: &#x27;1637&#x27;, &#x27;numSourceRows&#x27;: &#x27;10&#x27;, &#x27;numTargetDeletionVectorsAdded&#x27;: &#x27;0&#x27;, &#x27;numTargetChangeFilesAdded&#x27;: &#x27;0&#x27;, &#x27;numTargetRowsNotMatchedBySourceUpdated&#x27;: &#x27;0&#x27;, &#x27;numTargetRowsNotMatchedBySourceDeleted&#x27;: &#x27;1&#x27;, &#x27;numTargetBytesRemoved&#x27;: &#x27;3300&#x27;}</td><td>null</td><td>Apache-Spark/4.0.1 Delta-Lake/4.0.0</td></tr><tr><td>6</td><td>2025-10-17 22:22:24.883000</td><td>null</td><td>null</td><td>WRITE</td><td>{&#x27;mode&#x27;: &#x27;Append&#x27;, &#x27;partitionBy&#x27;: &#x27;[]&#x27;}</td><td>null</td><td>null</td><td>null</td><td>5</td><td>Serializable</td><td>True</td><td>{&#x27;numOutputRows&#x27;: &#x27;10&#x27;, &#x27;numOutputBytes&#x27;: &#x27;1679&#x27;, &#x27;numFiles&#x27;: &#x27;1&#x27;}</td><td>null</td><td>Apache-Spark/4.0.1 Delta-Lake/4.0.0</td></tr><tr><td>5</td><td>2025-10-17 22:17:58.624000</td><td>null</td><td>null</td><td>UPDATE</td><td>{&#x27;predicate&#x27;: &#x27;[&quot;(hero_name#5892 = Iron Man)&quot;]&#x27;}</td><td>null</td><td>null</td><td>null</td><td>4</td><td>Serializable</td><td>False</td><td>{&#x27;numDeletionVectorsUpdated&#x27;: &#x27;0&#x27;, &#x27;numAddedFiles&#x27;: &#x27;1&#x27;, &#x27;executionTimeMs&#x27;: &#x27;857&#x27;, &#x27;numDeletionVectorsRemoved&#x27;: &#x27;0&#x27;, &#x27;numUpdatedRows&#x27;: &#x27;1&#x27;, &#x27;numRemovedFiles&#x27;: &#x27;1&#x27;, &#x27;rewriteTimeMs&#x27;: &#x27;271&#x27;, &#x27;numRemovedBytes&#x27;: &#x27;1620&#x27;, &#x27;scanTimeMs&#x27;: &#x27;585&#x27;, &#x27;numCopiedRows&#x27;: &#x27;8&#x27;, &#x27;numDeletionVectorsAdded&#x27;: &#x27;0&#x27;, &#x27;numAddedChangeFiles&#x27;: &#x27;0&#x27;, &#x27;numAddedBytes&#x27;: &#x27;1621&#x27;}</td><td>null</td><td>Apache-Spark/4.0.1 Delta-Lake/4.0.0</td></tr><tr><td>4</td><td>2025-10-17 22:16:59.135000</td><td>null</td><td>null</td><td>DELETE</td><td>{&#x27;predicate&#x27;: &#x27;[&quot;(hero_name#2617 = Ant-Man)&quot;]&#x27;}</td><td>null</td><td>null</td><td>null</td><td>3</td><td>Serializable</td><td>False</td><td>{&#x27;numDeletionVectorsUpdated&#x27;: &#x27;0&#x27;, &#x27;numAddedFiles&#x27;: &#x27;1&#x27;, &#x27;executionTimeMs&#x27;: &#x27;2124&#x27;, &#x27;numDeletionVectorsRemoved&#x27;: &#x27;0&#x27;, &#x27;numRemovedFiles&#x27;: &#x27;1&#x27;, &#x27;rewriteTimeMs&#x27;: &#x27;324&#x27;, &#x27;numRemovedBytes&#x27;: &#x27;1642&#x27;, &#x27;scanTimeMs&#x27;: &#x27;1799&#x27;, &#x27;numCopiedRows&#x27;: &#x27;9&#x27;, &#x27;numDeletionVectorsAdded&#x27;: &#x27;0&#x27;, &#x27;numAddedChangeFiles&#x27;: &#x27;0&#x27;, &#x27;numDeletedRows&#x27;: &#x27;1&#x27;, &#x27;numAddedBytes&#x27;: &#x27;1620&#x27;}</td><td>null</td><td>Apache-Spark/4.0.1 Delta-Lake/4.0.0</td></tr><tr><td>3</td><td>2025-10-17 22:16:55.118000</td><td>null</td><td>null</td><td>UPDATE</td><td>{&#x27;predicate&#x27;: &#x27;[&quot;(hero_name#2160 = Iron Man)&quot;]&#x27;}</td><td>null</td><td>null</td><td>null</td><td>2</td><td>Serializable</td><td>False</td><td>{&#x27;numDeletionVectorsUpdated&#x27;: &#x27;0&#x27;, &#x27;numAddedFiles&#x27;: &#x27;1&#x27;, &#x27;executionTimeMs&#x27;: &#x27;1299&#x27;, &#x27;numDeletionVectorsRemoved&#x27;: &#x27;0&#x27;, &#x27;numUpdatedRows&#x27;: &#x27;1&#x27;, &#x27;numRemovedFiles&#x27;: &#x27;1&#x27;, &#x27;rewriteTimeMs&#x27;: &#x27;269&#x27;, &#x27;numRemovedBytes&#x27;: &#x27;1642&#x27;, &#x27;scanTimeMs&#x27;: &#x27;1028&#x27;, &#x27;numCopiedRows&#x27;: &#x27;9&#x27;, &#x27;numDeletionVectorsAdded&#x27;: &#x27;0&#x27;, &#x27;numAddedChangeFiles&#x27;: &#x27;0&#x27;, &#x27;numAddedBytes&#x27;: &#x27;1642&#x27;}</td><td>null</td><td>Apache-Spark/4.0.1 Delta-Lake/4.0.0</td></tr><tr><td>2</td><td>2025-10-17 22:16:50.806000</td><td>null</td><td>null</td><td>MERGE</td><td>{&#x27;matchedPredicates&#x27;: &#x27;[{&quot;actionType&quot;:&quot;update&quot;}]&#x27;, &#x27;predicate&#x27;: &#x27;[&quot;(id#1071 = id#1067)&quot;]&#x27;, &#x27;notMatchedBySourcePredicates&#x27;: &#x27;[{&quot;actionType&quot;:&quot;delete&quot;}]&#x27;, &#x27;notMatchedPredicates&#x27;: &#x27;[{&quot;actionType&quot;:&quot;insert&quot;}]&#x27;}</td><td>null</td><td>null</td><td>null</td><td>1</td><td>Serializable</td><td>False</td><td>{&#x27;numOutputRows&#x27;: &#x27;10&#x27;, &#x27;numTargetBytesAdded&#x27;: &#x27;1642&#x27;, &#x27;numTargetRowsInserted&#x27;: &#x27;1&#x27;, &#x27;numTargetRowsMatchedDeleted&#x27;: &#x27;0&#x27;, &#x27;numTargetFilesAdded&#x27;: &#x27;1&#x27;, &#x27;materializeSourceTimeMs&#x27;: &#x27;110&#x27;, &#x27;numTargetFilesRemoved&#x27;: &#x27;1&#x27;, &#x27;numTargetRowsMatchedUpdated&#x27;: &#x27;9&#x27;, &#x27;executionTimeMs&#x27;: &#x27;2283&#x27;, &#x27;numTargetDeletionVectorsUpdated&#x27;: &#x27;0&#x27;, &#x27;numTargetRowsCopied&#x27;: &#x27;0&#x27;, &#x27;rewriteTimeMs&#x27;: &#x27;694&#x27;, &#x27;numTargetRowsUpdated&#x27;: &#x27;9&#x27;, &#x27;numTargetDeletionVectorsRemoved&#x27;: &#x27;0&#x27;, &#x27;numTargetRowsDeleted&#x27;: &#x27;1&#x27;, &#x27;scanTimeMs&#x27;: &#x27;1466&#x27;, &#x27;numSourceRows&#x27;: &#x27;10&#x27;, &#x27;numTargetDeletionVectorsAdded&#x27;: &#x27;0&#x27;, &#x27;numTargetChangeFilesAdded&#x27;: &#x27;0&#x27;, &#x27;numTargetRowsNotMatchedBySourceUpdated&#x27;: &#x27;0&#x27;, &#x27;numTargetRowsNotMatchedBySourceDeleted&#x27;: &#x27;1&#x27;, &#x27;numTargetBytesRemoved&#x27;: &#x27;1679&#x27;}</td><td>null</td><td>Apache-Spark/4.0.1 Delta-Lake/4.0.0</td></tr><tr><td>1</td><td>2025-10-17 22:16:40.114000</td><td>null</td><td>null</td><td>WRITE</td><td>{&#x27;mode&#x27;: &#x27;Append&#x27;, &#x27;partitionBy&#x27;: &#x27;[]&#x27;}</td><td>null</td><td>null</td><td>null</td><td>0</td><td>Serializable</td><td>True</td><td>{&#x27;numOutputRows&#x27;: &#x27;10&#x27;, &#x27;numOutputBytes&#x27;: &#x27;1679&#x27;, &#x27;numFiles&#x27;: &#x27;1&#x27;}</td><td>null</td><td>Apache-Spark/4.0.1 Delta-Lake/4.0.0</td></tr><tr><td>0</td><td>2025-10-17 22:16:34.128000</td><td>null</td><td>null</td><td>CREATE TABLE</td><td>{&#x27;partitionBy&#x27;: &#x27;[]&#x27;, &#x27;description&#x27;: None, &#x27;properties&#x27;: &#x27;{}&#x27;, &#x27;clusterBy&#x27;: &#x27;[]&#x27;, &#x27;isManaged&#x27;: &#x27;true&#x27;}</td><td>null</td><td>null</td><td>null</td><td>null</td><td>Serializable</td><td>True</td><td>{}</td><td>null</td><td>Apache-Spark/4.0.1 Delta-Lake/4.0.0</td></tr></table>"
      ],
      "text/plain": [
       "<IPython.core.display.HTML object>"
      ]
     },
     "execution_count": 49,
     "metadata": {},
     "output_type": "execute_result"
    }
   ],
   "source": [
    "%%sparksql\n",
    "DESCRIBE HISTORY marvel_db.superheroes;"
   ]
  },
  {
   "cell_type": "code",
   "execution_count": 41,
   "id": "f785d725",
   "metadata": {},
   "outputs": [
    {
     "data": {
      "text/html": [
       "<table><tr style=\"border-bottom: 1px solid\"><td style=\"font-weight: bold\">format</td><td style=\"font-weight: bold\">id</td><td style=\"font-weight: bold\">name</td><td style=\"font-weight: bold\">description</td><td style=\"font-weight: bold\">location</td><td style=\"font-weight: bold\">createdAt</td><td style=\"font-weight: bold\">lastModified</td><td style=\"font-weight: bold\">partitionColumns</td><td style=\"font-weight: bold\">clusteringColumns</td><td style=\"font-weight: bold\">numFiles</td><td style=\"font-weight: bold\">sizeInBytes</td><td style=\"font-weight: bold\">properties</td><td style=\"font-weight: bold\">minReaderVersion</td><td style=\"font-weight: bold\">minWriterVersion</td><td style=\"font-weight: bold\">tableFeatures</td></tr><tr><td>delta</td><td>e9b18029-c184-4b57-b261-32dcb2e54d5e</td><td>spark_catalog.marvel_db.superheroes</td><td>null</td><td>file:/home/yannis/Development/tmp/pyspark-delta/spark-warehouse/marvel_db.db/superheroes</td><td>2025-10-17 22:16:33.753000</td><td>2025-10-17 22:22:45.441000</td><td>[]</td><td>[]</td><td>1</td><td>1785</td><td>{}</td><td>1</td><td>2</td><td>[&#x27;appendOnly&#x27;, &#x27;invariants&#x27;]</td></tr></table>"
      ],
      "text/plain": [
       "<IPython.core.display.HTML object>"
      ]
     },
     "execution_count": 41,
     "metadata": {},
     "output_type": "execute_result"
    }
   ],
   "source": [
    "%%sparksql\n",
    "DESCRIBE DETAIL marvel_db.superheroes;"
   ]
  },
  {
   "cell_type": "code",
   "execution_count": null,
   "id": "f7584f32",
   "metadata": {},
   "outputs": [],
   "source": [
    "%%sparksql\n",
    "SELECT * FROM marvel_db.superheroes VERSION AS OF 1;"
   ]
  },
  {
   "cell_type": "code",
   "execution_count": null,
   "id": "3096b0ee",
   "metadata": {},
   "outputs": [],
   "source": [
    "%%sparksql\n",
    "SELECT * FROM marvel_db.superheroes VERSION AS OF 2;"
   ]
  },
  {
   "cell_type": "code",
   "execution_count": 43,
   "id": "fc0b045d-2706-482f-8976-ba4a90465c96",
   "metadata": {},
   "outputs": [
    {
     "data": {
      "text/html": [
       "<table><tr style=\"border-bottom: 1px solid\"><td style=\"font-weight: bold\">id</td><td style=\"font-weight: bold\">hero_name</td><td style=\"font-weight: bold\">secret_identity</td><td style=\"font-weight: bold\">power_level</td></tr><tr><td>1</td><td>Iron Man</td><td>Tony Stark</td><td>98</td></tr><tr><td>1</td><td>Iron Man</td><td>Tony Stark</td><td>98</td></tr><tr><td>2</td><td>Captain America</td><td>Steve Rogers</td><td>88</td></tr><tr><td>2</td><td>Captain America</td><td>Steve Rogers</td><td>88</td></tr><tr><td>3</td><td>Thor</td><td>null</td><td>98</td></tr><tr><td>3</td><td>Thor</td><td>null</td><td>98</td></tr><tr><td>4</td><td>Hulk</td><td>Bruce Banner</td><td>97</td></tr><tr><td>4</td><td>Hulk</td><td>Bruce Banner</td><td>97</td></tr><tr><td>5</td><td>Black Widow</td><td>Natasha Romanoff</td><td>75</td></tr><tr><td>5</td><td>Black Widow</td><td>Natasha Romanoff</td><td>75</td></tr><tr><td>6</td><td>Spider-Man</td><td>Peter Parker</td><td>92</td></tr><tr><td>6</td><td>Spider-Man</td><td>Peter Parker</td><td>92</td></tr><tr><td>7</td><td>Black Panther</td><td>T&#x27;Challa</td><td>89</td></tr><tr><td>7</td><td>Black Panther</td><td>T&#x27;Challa</td><td>89</td></tr><tr><td>9</td><td>Scarlet Witch</td><td>Wanda Maximoff</td><td>94</td></tr><tr><td>9</td><td>Scarlet Witch</td><td>Wanda Maximoff</td><td>94</td></tr><tr><td>10</td><td>Hawkeye</td><td>Clint Barton</td><td>70</td></tr><tr><td>10</td><td>Hawkeye</td><td>Clint Barton</td><td>70</td></tr></table>"
      ],
      "text/plain": [
       "<IPython.core.display.HTML object>"
      ]
     },
     "execution_count": 43,
     "metadata": {},
     "output_type": "execute_result"
    }
   ],
   "source": [
    "%%sparksql\n",
    "SELECT * FROM marvel_db.superheroes VERSION AS OF 9;"
   ]
  },
  {
   "cell_type": "code",
   "execution_count": null,
   "id": "da6b994d",
   "metadata": {},
   "outputs": [],
   "source": [
    "# %%sparksql\n",
    "# SELECT * FROM marvel_db.superheroes TIMESTAMP AS OF '2025-10-17 17:56:00';"
   ]
  },
  {
   "cell_type": "code",
   "execution_count": null,
   "id": "a4576c5b",
   "metadata": {},
   "outputs": [],
   "source": [
    "# %%sparksql\n",
    "# SELECT * FROM marvel_db.superheroes TIMESTAMP AS OF '2025-10-17 17:57:00';"
   ]
  },
  {
   "cell_type": "code",
   "execution_count": null,
   "id": "36db45a7",
   "metadata": {},
   "outputs": [],
   "source": [
    "# %%sparksql\n",
    "# SELECT * FROM marvel_db.superheroes TIMESTAMP AS OF '2025-10-17 17:57:07.292000';"
   ]
  },
  {
   "cell_type": "code",
   "execution_count": 54,
   "id": "2f2f8d59-5e26-43f2-89f3-892f3c5d57be",
   "metadata": {},
   "outputs": [
    {
     "name": "stderr",
     "output_type": "stream",
     "text": [
      "25/10/17 23:00:28 WARN DAGScheduler: Broadcasting large task binary with size 1089.8 KiB\n",
      "                                                                                "
     ]
    },
    {
     "data": {
      "text/html": [
       "<table><tr style=\"border-bottom: 1px solid\"><td style=\"font-weight: bold\">table_size_after_restore</td><td style=\"font-weight: bold\">num_of_files_after_restore</td><td style=\"font-weight: bold\">num_removed_files</td><td style=\"font-weight: bold\">num_restored_files</td><td style=\"font-weight: bold\">removed_files_size</td><td style=\"font-weight: bold\">restored_files_size</td></tr><tr><td>1679</td><td>1</td><td>0</td><td>0</td><td>0</td><td>0</td></tr></table>"
      ],
      "text/plain": [
       "<IPython.core.display.HTML object>"
      ]
     },
     "execution_count": 54,
     "metadata": {},
     "output_type": "execute_result"
    }
   ],
   "source": [
    "%%sparksql\n",
    "RESTORE TABLE marvel_db.superheroes TO VERSION AS OF 1;"
   ]
  },
  {
   "cell_type": "code",
   "execution_count": 57,
   "id": "41a74334-dd95-4ea1-93f1-c186ce601500",
   "metadata": {},
   "outputs": [
    {
     "name": "stderr",
     "output_type": "stream",
     "text": [
      "25/10/17 23:01:42 WARN DAGScheduler: Broadcasting large task binary with size 1089.8 KiB\n",
      "                                                                                "
     ]
    },
    {
     "data": {
      "text/html": [
       "<table><tr style=\"border-bottom: 1px solid\"><td style=\"font-weight: bold\">table_size_after_restore</td><td style=\"font-weight: bold\">num_of_files_after_restore</td><td style=\"font-weight: bold\">num_removed_files</td><td style=\"font-weight: bold\">num_restored_files</td><td style=\"font-weight: bold\">removed_files_size</td><td style=\"font-weight: bold\">restored_files_size</td></tr><tr><td>1785</td><td>1</td><td>1</td><td>1</td><td>1679</td><td>1785</td></tr></table>"
      ],
      "text/plain": [
       "<IPython.core.display.HTML object>"
      ]
     },
     "execution_count": 57,
     "metadata": {},
     "output_type": "execute_result"
    }
   ],
   "source": [
    "%%sparksql\n",
    "RESTORE TABLE marvel_db.superheroes TO TIMESTAMP AS OF '2025-10-17 22:35:00';"
   ]
  },
  {
   "cell_type": "code",
   "execution_count": null,
   "id": "dd9205ce-12b9-41e0-83af-acdf11926721",
   "metadata": {},
   "outputs": [],
   "source": []
  }
 ],
 "metadata": {
  "kernelspec": {
   "display_name": "pyspark-delta (.venv)",
   "language": "python",
   "name": "pyspark_venv"
  },
  "language_info": {
   "codemirror_mode": {
    "name": "ipython",
    "version": 3
   },
   "file_extension": ".py",
   "mimetype": "text/x-python",
   "name": "python",
   "nbconvert_exporter": "python",
   "pygments_lexer": "ipython3",
   "version": "3.11.4"
  }
 },
 "nbformat": 4,
 "nbformat_minor": 5
}
